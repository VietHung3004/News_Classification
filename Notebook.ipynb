{
 "cells": [
  {
   "cell_type": "code",
   "execution_count": 48,
   "id": "9358ef0a",
   "metadata": {},
   "outputs": [],
   "source": [
    "import pandas as pd"
   ]
  },
  {
   "cell_type": "code",
   "execution_count": 49,
   "id": "4683fff0",
   "metadata": {},
   "outputs": [
    {
     "data": {
      "text/html": [
       "<div>\n",
       "<style scoped>\n",
       "    .dataframe tbody tr th:only-of-type {\n",
       "        vertical-align: middle;\n",
       "    }\n",
       "\n",
       "    .dataframe tbody tr th {\n",
       "        vertical-align: top;\n",
       "    }\n",
       "\n",
       "    .dataframe thead th {\n",
       "        text-align: right;\n",
       "    }\n",
       "</style>\n",
       "<table border=\"1\" class=\"dataframe\">\n",
       "  <thead>\n",
       "    <tr style=\"text-align: right;\">\n",
       "      <th></th>\n",
       "      <th>Unnamed: 0.1</th>\n",
       "      <th>Unnamed: 0</th>\n",
       "      <th>id</th>\n",
       "      <th>author</th>\n",
       "      <th>content</th>\n",
       "      <th>picture_count</th>\n",
       "      <th>processed</th>\n",
       "      <th>source</th>\n",
       "      <th>title</th>\n",
       "      <th>topic</th>\n",
       "      <th>url</th>\n",
       "      <th>crawled_at</th>\n",
       "    </tr>\n",
       "  </thead>\n",
       "  <tbody>\n",
       "    <tr>\n",
       "      <th>0</th>\n",
       "      <td>0</td>\n",
       "      <td>0</td>\n",
       "      <td>218270</td>\n",
       "      <td>NaN</td>\n",
       "      <td>Chiều 31/7, Công an tỉnh Thừa Thiên - Huế thôn...</td>\n",
       "      <td>3</td>\n",
       "      <td>0</td>\n",
       "      <td>docbao.vn</td>\n",
       "      <td>Tên cướp tiệm vàng Huế đại uý công an, công tá...</td>\n",
       "      <td>Pháp luật</td>\n",
       "      <td>https://docbao.vn/phap-luat/ten-cuop-tiem-vang...</td>\n",
       "      <td>2022-08-01 09:09:22.817308</td>\n",
       "    </tr>\n",
       "    <tr>\n",
       "      <th>1</th>\n",
       "      <td>1</td>\n",
       "      <td>1</td>\n",
       "      <td>218269</td>\n",
       "      <td>doãn hằng</td>\n",
       "      <td>Gần đây, Thứ trưởng Bộ Phát triển Kỹ thuật số,...</td>\n",
       "      <td>1</td>\n",
       "      <td>0</td>\n",
       "      <td>vtc.vn</td>\n",
       "      <td>Bỏ mạng 5G, Nga tiến thẳng 4G 6G</td>\n",
       "      <td>Sức khỏe - Đời sống</td>\n",
       "      <td>https://vtc.vn/bo-qua-mang-5g-nga-tien-thang-t...</td>\n",
       "      <td>2022-08-01 09:09:21.181469</td>\n",
       "    </tr>\n",
       "    <tr>\n",
       "      <th>2</th>\n",
       "      <td>2</td>\n",
       "      <td>2</td>\n",
       "      <td>218268</td>\n",
       "      <td>NaN</td>\n",
       "      <td>Kết thi nghiệp THPT 2022 trung bình môn toán, ...</td>\n",
       "      <td>3</td>\n",
       "      <td>0</td>\n",
       "      <td>thanhnien.vn</td>\n",
       "      <td>Địa phương đứng đầu tổng 3 môn văn, toán, ngoạ...</td>\n",
       "      <td>Giáo dục</td>\n",
       "      <td>https://thanhnien.vn/dia-phuong-nao-dung-dau-c...</td>\n",
       "      <td>2022-08-01 09:09:15.311901</td>\n",
       "    </tr>\n",
       "    <tr>\n",
       "      <th>3</th>\n",
       "      <td>3</td>\n",
       "      <td>3</td>\n",
       "      <td>218267</td>\n",
       "      <td>NaN</td>\n",
       "      <td>Thống đốc Kentucky Andy Beshear hôm 31/7 đợt m...</td>\n",
       "      <td>1</td>\n",
       "      <td>0</td>\n",
       "      <td>vnexpress</td>\n",
       "      <td>Người chết mưa lũ 'nghìn một' Mỹ 28</td>\n",
       "      <td>Thế giới</td>\n",
       "      <td>https://vnexpress.net/nguoi-chet-trong-mua-lu-...</td>\n",
       "      <td>2022-08-01 09:09:02.211498</td>\n",
       "    </tr>\n",
       "    <tr>\n",
       "      <th>4</th>\n",
       "      <td>4</td>\n",
       "      <td>4</td>\n",
       "      <td>218266</td>\n",
       "      <td>mi lan</td>\n",
       "      <td>Vụ tai nạn giao thông liên hoàn phố đi Tam Bạc...</td>\n",
       "      <td>12</td>\n",
       "      <td>0</td>\n",
       "      <td>soha</td>\n",
       "      <td>Hải Phòng: Hình ảnh xe \"điên\" tai nạn liên hoà...</td>\n",
       "      <td>Thời sự</td>\n",
       "      <td>https://soha.vn/hai-phong-hinh-anh-xe-dien-gay...</td>\n",
       "      <td>2022-08-01 09:09:01.601170</td>\n",
       "    </tr>\n",
       "  </tbody>\n",
       "</table>\n",
       "</div>"
      ],
      "text/plain": [
       "   Unnamed: 0.1  Unnamed: 0      id      author  \\\n",
       "0             0           0  218270         NaN   \n",
       "1             1           1  218269  doãn hằng    \n",
       "2             2           2  218268         NaN   \n",
       "3             3           3  218267         NaN   \n",
       "4             4           4  218266      mi lan   \n",
       "\n",
       "                                             content  picture_count  \\\n",
       "0  Chiều 31/7, Công an tỉnh Thừa Thiên - Huế thôn...              3   \n",
       "1  Gần đây, Thứ trưởng Bộ Phát triển Kỹ thuật số,...              1   \n",
       "2  Kết thi nghiệp THPT 2022 trung bình môn toán, ...              3   \n",
       "3  Thống đốc Kentucky Andy Beshear hôm 31/7 đợt m...              1   \n",
       "4  Vụ tai nạn giao thông liên hoàn phố đi Tam Bạc...             12   \n",
       "\n",
       "   processed        source                                              title  \\\n",
       "0          0     docbao.vn  Tên cướp tiệm vàng Huế đại uý công an, công tá...   \n",
       "1          0        vtc.vn                   Bỏ mạng 5G, Nga tiến thẳng 4G 6G   \n",
       "2          0  thanhnien.vn  Địa phương đứng đầu tổng 3 môn văn, toán, ngoạ...   \n",
       "3          0     vnexpress                Người chết mưa lũ 'nghìn một' Mỹ 28   \n",
       "4          0          soha  Hải Phòng: Hình ảnh xe \"điên\" tai nạn liên hoà...   \n",
       "\n",
       "                 topic                                                url  \\\n",
       "0            Pháp luật  https://docbao.vn/phap-luat/ten-cuop-tiem-vang...   \n",
       "1  Sức khỏe - Đời sống  https://vtc.vn/bo-qua-mang-5g-nga-tien-thang-t...   \n",
       "2             Giáo dục  https://thanhnien.vn/dia-phuong-nao-dung-dau-c...   \n",
       "3             Thế giới  https://vnexpress.net/nguoi-chet-trong-mua-lu-...   \n",
       "4              Thời sự  https://soha.vn/hai-phong-hinh-anh-xe-dien-gay...   \n",
       "\n",
       "                   crawled_at  \n",
       "0  2022-08-01 09:09:22.817308  \n",
       "1  2022-08-01 09:09:21.181469  \n",
       "2  2022-08-01 09:09:15.311901  \n",
       "3  2022-08-01 09:09:02.211498  \n",
       "4  2022-08-01 09:09:01.601170  "
      ]
     },
     "execution_count": 49,
     "metadata": {},
     "output_type": "execute_result"
    }
   ],
   "source": [
    "df = pd.read_csv(\"Fixed_news_dataset.csv\", encoding='utf-8')\n",
    "df.head()"
   ]
  },
  {
   "cell_type": "code",
   "execution_count": 50,
   "id": "4bbefd13",
   "metadata": {},
   "outputs": [
    {
     "name": "stdout",
     "output_type": "stream",
     "text": [
      "<class 'pandas.core.frame.DataFrame'>\n",
      "RangeIndex: 184539 entries, 0 to 184538\n",
      "Data columns (total 12 columns):\n",
      " #   Column         Non-Null Count   Dtype \n",
      "---  ------         --------------   ----- \n",
      " 0   Unnamed: 0.1   184539 non-null  int64 \n",
      " 1   Unnamed: 0     184539 non-null  int64 \n",
      " 2   id             184539 non-null  int64 \n",
      " 3   author         110923 non-null  object\n",
      " 4   content        161218 non-null  object\n",
      " 5   picture_count  184539 non-null  int64 \n",
      " 6   processed      184539 non-null  int64 \n",
      " 7   source         184534 non-null  object\n",
      " 8   title          184522 non-null  object\n",
      " 9   topic          184539 non-null  object\n",
      " 10  url            184539 non-null  object\n",
      " 11  crawled_at     184125 non-null  object\n",
      "dtypes: int64(5), object(7)\n",
      "memory usage: 16.9+ MB\n"
     ]
    }
   ],
   "source": [
    "df.info()"
   ]
  },
  {
   "cell_type": "code",
   "execution_count": 51,
   "id": "826643f4",
   "metadata": {},
   "outputs": [
    {
     "data": {
      "text/plain": [
       "np.int64(0)"
      ]
     },
     "execution_count": 51,
     "metadata": {},
     "output_type": "execute_result"
    }
   ],
   "source": [
    "df.duplicated().sum()"
   ]
  },
  {
   "cell_type": "code",
   "execution_count": 52,
   "id": "1db716a5",
   "metadata": {},
   "outputs": [
    {
     "data": {
      "text/plain": [
       "Unnamed: 0.1         0\n",
       "Unnamed: 0           0\n",
       "id                   0\n",
       "author           73616\n",
       "content          23321\n",
       "picture_count        0\n",
       "processed            0\n",
       "source               5\n",
       "title               17\n",
       "topic                0\n",
       "url                  0\n",
       "crawled_at         414\n",
       "dtype: int64"
      ]
     },
     "execution_count": 52,
     "metadata": {},
     "output_type": "execute_result"
    }
   ],
   "source": [
    "df.isnull().sum()"
   ]
  },
  {
   "cell_type": "code",
   "execution_count": 53,
   "id": "c1a807c4",
   "metadata": {},
   "outputs": [
    {
     "data": {
      "text/plain": [
       "16"
      ]
     },
     "execution_count": 53,
     "metadata": {},
     "output_type": "execute_result"
    }
   ],
   "source": [
    "null_content = df[\"content\"].isnull()\n",
    "null_title = df[\"title\"].isnull()\n",
    "delete_rows = df[null_content & null_title]\n",
    "len(delete_rows)"
   ]
  },
  {
   "cell_type": "code",
   "execution_count": 54,
   "id": "f6c98f59",
   "metadata": {},
   "outputs": [
    {
     "data": {
      "text/plain": [
       "topic\n",
       "Văn hóa - Giải trí        32040\n",
       "Sức khỏe - Đời sống       25578\n",
       "Thể thao                  22549\n",
       "Thế giới                  17386\n",
       "Thời sự                   16974\n",
       "Xã hội                    16630\n",
       "Kinh doanh - Tài chính    11175\n",
       "Pháp luật                 10807\n",
       "Giáo dục                   8166\n",
       "Kinh tế                    5581\n",
       "Xe                         4496\n",
       "Công nghệ                  4333\n",
       "Chính trị                  4113\n",
       "Bạn đọc                    1820\n",
       "Bất động sản               1532\n",
       "Quốc phòng                 1356\n",
       "Pháp luật                   3\n",
       "Name: count, dtype: int64"
      ]
     },
     "execution_count": 54,
     "metadata": {},
     "output_type": "execute_result"
    }
   ],
   "source": [
    "df[\"topic\"].value_counts()"
   ]
  },
  {
   "cell_type": "markdown",
   "id": "982739a3",
   "metadata": {},
   "source": [
    "# Data Clean\n"
   ]
  },
  {
   "cell_type": "code",
   "execution_count": 55,
   "id": "1c9d9444",
   "metadata": {},
   "outputs": [
    {
     "data": {
      "text/html": [
       "<div>\n",
       "<style scoped>\n",
       "    .dataframe tbody tr th:only-of-type {\n",
       "        vertical-align: middle;\n",
       "    }\n",
       "\n",
       "    .dataframe tbody tr th {\n",
       "        vertical-align: top;\n",
       "    }\n",
       "\n",
       "    .dataframe thead th {\n",
       "        text-align: right;\n",
       "    }\n",
       "</style>\n",
       "<table border=\"1\" class=\"dataframe\">\n",
       "  <thead>\n",
       "    <tr style=\"text-align: right;\">\n",
       "      <th></th>\n",
       "      <th>content</th>\n",
       "      <th>title</th>\n",
       "      <th>topic</th>\n",
       "    </tr>\n",
       "  </thead>\n",
       "  <tbody>\n",
       "    <tr>\n",
       "      <th>0</th>\n",
       "      <td>Chiều 31/7, Công an tỉnh Thừa Thiên - Huế thôn...</td>\n",
       "      <td>Tên cướp tiệm vàng Huế đại uý công an, công tá...</td>\n",
       "      <td>Pháp luật</td>\n",
       "    </tr>\n",
       "    <tr>\n",
       "      <th>1</th>\n",
       "      <td>Gần đây, Thứ trưởng Bộ Phát triển Kỹ thuật số,...</td>\n",
       "      <td>Bỏ mạng 5G, Nga tiến thẳng 4G 6G</td>\n",
       "      <td>Sức khỏe - Đời sống</td>\n",
       "    </tr>\n",
       "    <tr>\n",
       "      <th>2</th>\n",
       "      <td>Kết thi nghiệp THPT 2022 trung bình môn toán, ...</td>\n",
       "      <td>Địa phương đứng đầu tổng 3 môn văn, toán, ngoạ...</td>\n",
       "      <td>Giáo dục</td>\n",
       "    </tr>\n",
       "    <tr>\n",
       "      <th>3</th>\n",
       "      <td>Thống đốc Kentucky Andy Beshear hôm 31/7 đợt m...</td>\n",
       "      <td>Người chết mưa lũ 'nghìn một' Mỹ 28</td>\n",
       "      <td>Thế giới</td>\n",
       "    </tr>\n",
       "    <tr>\n",
       "      <th>4</th>\n",
       "      <td>Vụ tai nạn giao thông liên hoàn phố đi Tam Bạc...</td>\n",
       "      <td>Hải Phòng: Hình ảnh xe \"điên\" tai nạn liên hoà...</td>\n",
       "      <td>Thời sự</td>\n",
       "    </tr>\n",
       "  </tbody>\n",
       "</table>\n",
       "</div>"
      ],
      "text/plain": [
       "                                             content  \\\n",
       "0  Chiều 31/7, Công an tỉnh Thừa Thiên - Huế thôn...   \n",
       "1  Gần đây, Thứ trưởng Bộ Phát triển Kỹ thuật số,...   \n",
       "2  Kết thi nghiệp THPT 2022 trung bình môn toán, ...   \n",
       "3  Thống đốc Kentucky Andy Beshear hôm 31/7 đợt m...   \n",
       "4  Vụ tai nạn giao thông liên hoàn phố đi Tam Bạc...   \n",
       "\n",
       "                                               title                topic  \n",
       "0  Tên cướp tiệm vàng Huế đại uý công an, công tá...            Pháp luật  \n",
       "1                   Bỏ mạng 5G, Nga tiến thẳng 4G 6G  Sức khỏe - Đời sống  \n",
       "2  Địa phương đứng đầu tổng 3 môn văn, toán, ngoạ...             Giáo dục  \n",
       "3                Người chết mưa lũ 'nghìn một' Mỹ 28             Thế giới  \n",
       "4  Hải Phòng: Hình ảnh xe \"điên\" tai nạn liên hoà...              Thời sự  "
      ]
     },
     "execution_count": 55,
     "metadata": {},
     "output_type": "execute_result"
    }
   ],
   "source": [
    "import re\n",
    "import unicodedata\n",
    "\n",
    "df = df.drop(columns=[\n",
    "    \"Unnamed: 0.1\",\n",
    "    \"Unnamed: 0\",\n",
    "    \"id\",\n",
    "    \"author\",\n",
    "    \"picture_count\",\n",
    "    \"processed\",\n",
    "    \"source\",\n",
    "    \"url\",\n",
    "    \"crawled_at\"\n",
    "])\n",
    "\n",
    "df.head()"
   ]
  },
  {
   "cell_type": "code",
   "execution_count": 56,
   "id": "78114ab7",
   "metadata": {},
   "outputs": [
    {
     "name": "stdout",
     "output_type": "stream",
     "text": [
      "<class 'pandas.core.frame.DataFrame'>\n",
      "Index: 184523 entries, 0 to 184538\n",
      "Data columns (total 3 columns):\n",
      " #   Column   Non-Null Count   Dtype \n",
      "---  ------   --------------   ----- \n",
      " 0   content  161218 non-null  object\n",
      " 1   title    184522 non-null  object\n",
      " 2   topic    184523 non-null  object\n",
      "dtypes: object(3)\n",
      "memory usage: 5.6+ MB\n"
     ]
    }
   ],
   "source": [
    "df = df.drop(delete_rows.index)\n",
    "df.info()"
   ]
  },
  {
   "cell_type": "code",
   "execution_count": 57,
   "id": "ada3a951",
   "metadata": {},
   "outputs": [
    {
     "data": {
      "text/html": [
       "<div>\n",
       "<style scoped>\n",
       "    .dataframe tbody tr th:only-of-type {\n",
       "        vertical-align: middle;\n",
       "    }\n",
       "\n",
       "    .dataframe tbody tr th {\n",
       "        vertical-align: top;\n",
       "    }\n",
       "\n",
       "    .dataframe thead th {\n",
       "        text-align: right;\n",
       "    }\n",
       "</style>\n",
       "<table border=\"1\" class=\"dataframe\">\n",
       "  <thead>\n",
       "    <tr style=\"text-align: right;\">\n",
       "      <th></th>\n",
       "      <th>topic</th>\n",
       "      <th>text</th>\n",
       "    </tr>\n",
       "  </thead>\n",
       "  <tbody>\n",
       "    <tr>\n",
       "      <th>0</th>\n",
       "      <td>Pháp luật</td>\n",
       "      <td>Tên cướp tiệm vàng Huế đại uý công an, công tá...</td>\n",
       "    </tr>\n",
       "    <tr>\n",
       "      <th>1</th>\n",
       "      <td>Sức khỏe - Đời sống</td>\n",
       "      <td>Bỏ mạng 5G, Nga tiến thẳng 4G 6G Gần đây, Thứ ...</td>\n",
       "    </tr>\n",
       "    <tr>\n",
       "      <th>2</th>\n",
       "      <td>Giáo dục</td>\n",
       "      <td>Địa phương đứng đầu tổng 3 môn văn, toán, ngoạ...</td>\n",
       "    </tr>\n",
       "    <tr>\n",
       "      <th>3</th>\n",
       "      <td>Thế giới</td>\n",
       "      <td>Người chết mưa lũ 'nghìn một' Mỹ 28 Thống đốc ...</td>\n",
       "    </tr>\n",
       "    <tr>\n",
       "      <th>4</th>\n",
       "      <td>Thời sự</td>\n",
       "      <td>Hải Phòng: Hình ảnh xe \"điên\" tai nạn liên hoà...</td>\n",
       "    </tr>\n",
       "  </tbody>\n",
       "</table>\n",
       "</div>"
      ],
      "text/plain": [
       "                 topic                                               text\n",
       "0            Pháp luật  Tên cướp tiệm vàng Huế đại uý công an, công tá...\n",
       "1  Sức khỏe - Đời sống  Bỏ mạng 5G, Nga tiến thẳng 4G 6G Gần đây, Thứ ...\n",
       "2             Giáo dục  Địa phương đứng đầu tổng 3 môn văn, toán, ngoạ...\n",
       "3             Thế giới  Người chết mưa lũ 'nghìn một' Mỹ 28 Thống đốc ...\n",
       "4              Thời sự  Hải Phòng: Hình ảnh xe \"điên\" tai nạn liên hoà..."
      ]
     },
     "execution_count": 57,
     "metadata": {},
     "output_type": "execute_result"
    }
   ],
   "source": [
    "df[\"text\"] = df[\"title\"] + \" \" + df[\"content\"]\n",
    "df = df.drop(columns=[\"title\", \"content\"])\n",
    "df.head()"
   ]
  },
  {
   "cell_type": "code",
   "execution_count": 58,
   "id": "b4035f84",
   "metadata": {},
   "outputs": [
    {
     "name": "stderr",
     "output_type": "stream",
     "text": [
      "C:\\Users\\Viet Hung\\AppData\\Local\\Temp\\ipykernel_7052\\2301317726.py:1: FutureWarning: DataFrame.applymap has been deprecated. Use DataFrame.map instead.\n",
      "  df = df.applymap(lambda x: unicodedata.normalize('NFC',x)if isinstance(x, str) else x)\n"
     ]
    },
    {
     "data": {
      "text/plain": [
       "topic\n",
       "Văn hóa - Giải trí        32024\n",
       "Sức khỏe - Đời sống       25578\n",
       "Thể thao                  22549\n",
       "Thế giới                  17386\n",
       "Thời sự                   16974\n",
       "Xã hội                    16630\n",
       "Kinh doanh - Tài chính    11175\n",
       "Pháp luật                 10810\n",
       "Giáo dục                   8166\n",
       "Kinh tế                    5581\n",
       "Xe                         4496\n",
       "Công nghệ                  4333\n",
       "Chính trị                  4113\n",
       "Bạn đọc                    1820\n",
       "Bất động sản               1532\n",
       "Quốc phòng                 1356\n",
       "Name: count, dtype: int64"
      ]
     },
     "execution_count": 58,
     "metadata": {},
     "output_type": "execute_result"
    }
   ],
   "source": [
    "df = df.applymap(lambda x: unicodedata.normalize('NFC',x)if isinstance(x, str) else x)\n",
    "df[\"topic\"].value_counts()"
   ]
  },
  {
   "cell_type": "code",
   "execution_count": 59,
   "id": "77b5d413",
   "metadata": {},
   "outputs": [],
   "source": [
    "def clean_text(text):\n",
    "    if not isinstance(text, str):\n",
    "        return \"\"\n",
    "    text = text.lower()\n",
    "    text = re.sub(r\"http\\S+|www\\S+\", \" \", text)\n",
    "    text = re.sub(r\"[^0-9a-zàáạảãâầấậẩẫăằắặẳẵèéẹẻẽêềếệểễ\"\n",
    "                  r\"ìíịỉĩòóọỏõôồốộổỗơờớợởỡùúụủũưừứựửữ\"\n",
    "                  r\"ỳýỵỷỹđ\\s]\", \" \", text)\n",
    "    text = re.sub(r\"\\s+\", \" \", text).strip()\n",
    "    return text\n",
    "df[\"clean_text\"] = df[\"text\"].apply(clean_text)\n",
    "\n",
    "# 2. Bỏ NaN và chuỗi rỗng\n",
    "df = df[df[\"clean_text\"].notna() & (df[\"clean_text\"].str.strip() != \"\")].copy()\n",
    "\n",
    "# 3. Đảm bảo kiểu str\n",
    "df[\"clean_text\"] = df[\"clean_text\"].astype(str)\n",
    "df.drop(columns=[\"text\"], inplace=True)\n",
    "#df.to_csv(\"Cleaned_news_dataset.csv\", index=False, encoding='utf-8')"
   ]
  },
  {
   "cell_type": "markdown",
   "id": "95298246",
   "metadata": {},
   "source": [
    "Explore Data Analysis"
   ]
  },
  {
   "cell_type": "code",
   "execution_count": 60,
   "id": "cc58bd68",
   "metadata": {},
   "outputs": [],
   "source": [
    "import matplotlib.pyplot as plt\n",
    "import seaborn as sns\n",
    "import numpy as np\n"
   ]
  },
  {
   "cell_type": "code",
   "execution_count": 61,
   "id": "c95a0f76",
   "metadata": {},
   "outputs": [
    {
     "data": {
      "text/html": [
       "<div>\n",
       "<style scoped>\n",
       "    .dataframe tbody tr th:only-of-type {\n",
       "        vertical-align: middle;\n",
       "    }\n",
       "\n",
       "    .dataframe tbody tr th {\n",
       "        vertical-align: top;\n",
       "    }\n",
       "\n",
       "    .dataframe thead th {\n",
       "        text-align: right;\n",
       "    }\n",
       "</style>\n",
       "<table border=\"1\" class=\"dataframe\">\n",
       "  <thead>\n",
       "    <tr style=\"text-align: right;\">\n",
       "      <th></th>\n",
       "      <th>topic</th>\n",
       "      <th>tokens</th>\n",
       "    </tr>\n",
       "  </thead>\n",
       "  <tbody>\n",
       "    <tr>\n",
       "      <th>0</th>\n",
       "      <td>Pháp luật</td>\n",
       "      <td>tên cướp tiệm vàng huế đại_úy công_an công_tác...</td>\n",
       "    </tr>\n",
       "    <tr>\n",
       "      <th>1</th>\n",
       "      <td>Sức khỏe - Đời sống</td>\n",
       "      <td>bỏ mạng 5 g nga tiến thẳng 4 g 6 g gần đây thứ...</td>\n",
       "    </tr>\n",
       "    <tr>\n",
       "      <th>2</th>\n",
       "      <td>Giáo dục</td>\n",
       "      <td>địa_phương đứng đầu tổng 3 môn văn_toán ngoại_...</td>\n",
       "    </tr>\n",
       "    <tr>\n",
       "      <th>3</th>\n",
       "      <td>Thế giới</td>\n",
       "      <td>người chết mưa_lũ nghìn một mỹ 28 thống_đốc ke...</td>\n",
       "    </tr>\n",
       "    <tr>\n",
       "      <th>4</th>\n",
       "      <td>Thời sự</td>\n",
       "      <td>hải_phòng hình_ảnh xe điên tai_nạn liên_hoàn p...</td>\n",
       "    </tr>\n",
       "  </tbody>\n",
       "</table>\n",
       "</div>"
      ],
      "text/plain": [
       "                 topic                                             tokens\n",
       "0            Pháp luật  tên cướp tiệm vàng huế đại_úy công_an công_tác...\n",
       "1  Sức khỏe - Đời sống  bỏ mạng 5 g nga tiến thẳng 4 g 6 g gần đây thứ...\n",
       "2             Giáo dục  địa_phương đứng đầu tổng 3 môn văn_toán ngoại_...\n",
       "3             Thế giới  người chết mưa_lũ nghìn một mỹ 28 thống_đốc ke...\n",
       "4              Thời sự  hải_phòng hình_ảnh xe điên tai_nạn liên_hoàn p..."
      ]
     },
     "execution_count": 61,
     "metadata": {},
     "output_type": "execute_result"
    }
   ],
   "source": [
    "data = pd.read_csv(\"Data_tokenized.csv\", encoding='utf-8')\n",
    "data.head()"
   ]
  },
  {
   "cell_type": "code",
   "execution_count": 62,
   "id": "930a3658",
   "metadata": {},
   "outputs": [
    {
     "data": {
      "image/png": "[encoded data removed]",
      "text/plain": [
       "<Figure size 1000x600 with 1 Axes>"
      ]
     },
     "metadata": {},
     "output_type": "display_data"
    }
   ],
   "source": [
    "plt.figure(figsize=(10,6))\n",
    "sns.countplot(data=data, x='topic', order=data['topic'].value_counts().index)\n",
    "plt.title('Distribution of News Topics')\n",
    "plt.xlabel('Topic')\n",
    "plt.ylabel('Number of Articles')\n",
    "plt.xticks(rotation=45)\n",
    "plt.show()"
   ]
  },
  {
   "cell_type": "markdown",
   "id": "bf0e72bd",
   "metadata": {},
   "source": [
    "# DataPreProcessing"
   ]
  },
  {
   "cell_type": "code",
   "execution_count": 63,
   "id": "f66a9d39",
   "metadata": {},
   "outputs": [
    {
     "data": {
      "text/plain": [
       "topic\n",
       "Sức khỏe - Đời sống       23241\n",
       "Văn hóa - Giải trí        21224\n",
       "Thể thao                  19263\n",
       "Thế giới                  16682\n",
       "Xã hội                    15580\n",
       "Thời sự                   15205\n",
       "Pháp luật                 10650\n",
       "Kinh doanh - Tài chính    10313\n",
       "Giáo dục                   7631\n",
       "Kinh tế                    5255\n",
       "Công nghệ                  4248\n",
       "Chính trị                  4032\n",
       "Xe                         3795\n",
       "Bạn đọc                    1715\n",
       "Bất động sản               1457\n",
       "Quốc phòng                  925\n",
       "Name: count, dtype: int64"
      ]
     },
     "execution_count": 63,
     "metadata": {},
     "output_type": "execute_result"
    }
   ],
   "source": [
    "from sklearn.model_selection import train_test_split\n",
    "from sklearn.preprocessing import LabelEncoder\n",
    "from sklearn.linear_model import LogisticRegression, SGDClassifier\n",
    "from sklearn.svm import SVC\n",
    "from sklearn.metrics import classification_report, confusion_matrix\n",
    "from sklearn.feature_extraction.text import TfidfVectorizer\n",
    "from sklearn.naive_bayes import MultinomialNB\n",
    "from imblearn.over_sampling import SMOTE\n",
    "from imblearn.under_sampling import RandomUnderSampler\n",
    "data[\"topic\"].value_counts()"
   ]
  },
  {
   "cell_type": "code",
   "execution_count": 64,
   "id": "3487eb47",
   "metadata": {},
   "outputs": [
    {
     "data": {
      "text/plain": [
       "topic\n",
       "Xã hội                    32500\n",
       "Sức khỏe - Đời sống       23241\n",
       "Thế giới                  21639\n",
       "Văn hóa - Giải trí        21224\n",
       "Thể thao                  19263\n",
       "Kinh doanh - Tài chính    17025\n",
       "Pháp luật                 10650\n",
       "Giáo dục                   7631\n",
       "Công nghệ                  4248\n",
       "Xe                         3795\n",
       "Name: count, dtype: int64"
      ]
     },
     "execution_count": 64,
     "metadata": {},
     "output_type": "execute_result"
    }
   ],
   "source": [
    "merge1 = {\n",
    "    \"Quốc phòng\": \"Chính trị\",\n",
    "    \"Bất động sản\": \"Kinh doanh - Tài chính\",\n",
    "    \"Bạn đọc\": \"Xã hội\",\n",
    "    \"Kinh tế\": \"Kinh doanh - Tài chính\",\n",
    "    \"Thời sự\": \"Xã hội\"\n",
    "}\n",
    "\n",
    "data[\"topic\"] = data[\"topic\"].replace(merge1)\n",
    "\n",
    "# Sau đó gộp “Chính trị” vào “Thế giới”\n",
    "data[\"topic\"] = data[\"topic\"].replace({\"Chính trị\": \"Thế giới\"})\n",
    "\n",
    "data[\"topic\"].value_counts()\n"
   ]
  },
  {
   "cell_type": "code",
   "execution_count": 65,
   "id": "7c911e24",
   "metadata": {},
   "outputs": [
    {
     "data": {
      "text/plain": [
       "topic\n",
       "9    32500\n",
       "4    23241\n",
       "5    21639\n",
       "7    21224\n",
       "6    19263\n",
       "2    17025\n",
       "3    10650\n",
       "1     7631\n",
       "0     4248\n",
       "8     3795\n",
       "Name: count, dtype: int64"
      ]
     },
     "execution_count": 65,
     "metadata": {},
     "output_type": "execute_result"
    }
   ],
   "source": [
    "le = LabelEncoder()\n",
    "data[\"topic\"] = le.fit_transform(data[\"topic\"])\n",
    "data[\"topic\"].value_counts()"
   ]
  },
  {
   "cell_type": "code",
   "execution_count": 66,
   "id": "ec80ed02",
   "metadata": {},
   "outputs": [],
   "source": [
    "vector = TfidfVectorizer(\n",
    "    max_features=30000,\n",
    "    ngram_range=(1, 2),\n",
    "    min_df=5,\n",
    "    max_df=0.9,\n",
    "    sublinear_tf=True )\n",
    "X = vector.fit_transform(data[\"tokens\"])\n",
    "y = data[\"topic\"]"
   ]
  },
  {
   "cell_type": "code",
   "execution_count": 67,
   "id": "93b161e7",
   "metadata": {},
   "outputs": [
    {
     "data": {
      "text/plain": [
       "topic\n",
       "9    32500\n",
       "4    23241\n",
       "5    21639\n",
       "7    21224\n",
       "6    19263\n",
       "2    17025\n",
       "3    10650\n",
       "1     7631\n",
       "0     4248\n",
       "8     3795\n",
       "Name: count, dtype: int64"
      ]
     },
     "execution_count": 67,
     "metadata": {},
     "output_type": "execute_result"
    }
   ],
   "source": [
    "data[\"topic\"].value_counts()"
   ]
  },
  {
   "cell_type": "code",
   "execution_count": 68,
   "id": "0c6d2cb1",
   "metadata": {},
   "outputs": [
    {
     "data": {
      "text/plain": [
       "topic\n",
       "4    20000\n",
       "5    20000\n",
       "9    20000\n",
       "7    20000\n",
       "6    19263\n",
       "2    17025\n",
       "3    10650\n",
       "1     7631\n",
       "0     4248\n",
       "8     3795\n",
       "Name: count, dtype: int64"
      ]
     },
     "execution_count": 68,
     "metadata": {},
     "output_type": "execute_result"
    }
   ],
   "source": [
    "Rus = RandomUnderSampler(sampling_strategy={9:20000,4:20000,5:20000,7:20000}, random_state=42)\n",
    "X_rus, y_rus = Rus.fit_resample(X, y)\n",
    "y_rus.value_counts()\n"
   ]
  },
  {
   "cell_type": "code",
   "execution_count": 69,
   "id": "a33b51f7",
   "metadata": {},
   "outputs": [
    {
     "data": {
      "text/plain": [
       "topic\n",
       "4    20000\n",
       "5    20000\n",
       "9    20000\n",
       "7    20000\n",
       "6    19263\n",
       "2    17025\n",
       "3    10650\n",
       "0    10000\n",
       "1    10000\n",
       "8    10000\n",
       "Name: count, dtype: int64"
      ]
     },
     "execution_count": 69,
     "metadata": {},
     "output_type": "execute_result"
    }
   ],
   "source": [
    "smote = SMOTE(sampling_strategy={8:10000,0:10000,1:10000}, random_state=42)\n",
    "X_smote, y_smote = smote.fit_resample(X_rus, y_rus)\n",
    "y_smote.value_counts()"
   ]
  },
  {
   "cell_type": "code",
   "execution_count": 70,
   "id": "0a0111bf",
   "metadata": {},
   "outputs": [],
   "source": [
    "X = X_smote\n",
    "y = y_smote\n",
    "\n",
    "X_train, X_test, y_train, y_test = train_test_split(X, y, test_size=0.2, random_state=42, stratify=y)"
   ]
  },
  {
   "cell_type": "code",
   "execution_count": 71,
   "id": "30f2331a",
   "metadata": {},
   "outputs": [
    {
     "name": "stdout",
     "output_type": "stream",
     "text": [
      "Train size: 125550\n",
      "Test size: 31388\n",
      "Phân bố train:\n",
      " topic\n",
      "5    16000\n",
      "7    16000\n",
      "9    16000\n",
      "4    16000\n",
      "6    15410\n",
      "2    13620\n",
      "3     8520\n",
      "0     8000\n",
      "8     8000\n",
      "1     8000\n",
      "Name: count, dtype: int64\n",
      "Phân bố test:\n",
      " topic\n",
      "4    4000\n",
      "7    4000\n",
      "9    4000\n",
      "5    4000\n",
      "6    3853\n",
      "2    3405\n",
      "3    2130\n",
      "8    2000\n",
      "1    2000\n",
      "0    2000\n",
      "Name: count, dtype: int64\n"
     ]
    }
   ],
   "source": [
    "print(\"Train size:\", X_train.shape[0])\n",
    "print(\"Test size:\", X_test.shape[0])\n",
    "print(\"Phân bố train:\\n\", pd.Series(y_train).value_counts())\n",
    "print(\"Phân bố test:\\n\", pd.Series(y_test).value_counts())\n"
   ]
  },
  {
   "cell_type": "markdown",
   "id": "8b7c3ce6",
   "metadata": {},
   "source": [
    "# Model\n"
   ]
  },
  {
   "cell_type": "code",
   "execution_count": 74,
   "id": "ef8bab34",
   "metadata": {},
   "outputs": [
    {
     "name": "stdout",
     "output_type": "stream",
     "text": [
      "=== Logistic Regression ===\n",
      "                        precision    recall  f1-score   support\n",
      "\n",
      "             Công nghệ       0.83      0.92      0.87      2000\n",
      "              Giáo dục       0.78      0.90      0.84      2000\n",
      "Kinh doanh - Tài chính       0.82      0.80      0.81      3405\n",
      "             Pháp luật       0.79      0.89      0.84      2130\n",
      "   Sức khỏe - Đời sống       0.79      0.76      0.77      4000\n",
      "              Thế giới       0.85      0.87      0.86      4000\n",
      "              Thể thao       0.98      0.98      0.98      3853\n",
      "    Văn hóa - Giải trí       0.87      0.82      0.85      4000\n",
      "                    Xe       0.88      0.97      0.92      2000\n",
      "                Xã hội       0.72      0.61      0.66      4000\n",
      "\n",
      "              accuracy                           0.83     31388\n",
      "             macro avg       0.83      0.85      0.84     31388\n",
      "          weighted avg       0.83      0.83      0.83     31388\n",
      "\n"
     ]
    }
   ],
   "source": [
    "lr = LogisticRegression(max_iter=10000, class_weight='balanced')\n",
    "lr.fit(X_train, y_train)\n",
    "y_pred_lr = lr.predict(X_test)\n",
    "\n",
    "print(\"=== Logistic Regression ===\")\n",
    "print(classification_report(y_test, y_pred_lr, target_names=le.classes_))"
   ]
  },
  {
   "cell_type": "code",
   "execution_count": 100,
   "id": "91e5de58",
   "metadata": {},
   "outputs": [
    {
     "data": {
      "text/plain": [
       "array(['Sức khỏe - Đời sống'], dtype=object)"
      ]
     },
     "execution_count": 100,
     "metadata": {},
     "output_type": "execute_result"
    }
   ],
   "source": [
    "new = lr.predict(vector.transform([\"Mỡ nội tạng là một loại mỡ nằm sâu trong bụng, bao quanh các cơ quan như gan và ruột. Không giống như mỡ dưới da, bạn không thể nhìn thấy mỡ nội tạng. Tuy nhiên, mỡ nội tạng gây ra đủ loại vấn đề cho sức khỏe.\"]))\n",
    "le.inverse_transform(new)"
   ]
  },
  {
   "cell_type": "code",
   "execution_count": 80,
   "id": "cc292f8d",
   "metadata": {},
   "outputs": [
    {
     "name": "stdout",
     "output_type": "stream",
     "text": [
      "=== SGD Regression ===\n",
      "                        precision    recall  f1-score   support\n",
      "\n",
      "             Công nghệ       0.83      0.92      0.87      2000\n",
      "              Giáo dục       0.78      0.90      0.84      2000\n",
      "Kinh doanh - Tài chính       0.82      0.80      0.81      3405\n",
      "             Pháp luật       0.79      0.89      0.84      2130\n",
      "   Sức khỏe - Đời sống       0.79      0.76      0.77      4000\n",
      "              Thế giới       0.85      0.87      0.86      4000\n",
      "              Thể thao       0.98      0.98      0.98      3853\n",
      "    Văn hóa - Giải trí       0.87      0.82      0.85      4000\n",
      "                    Xe       0.88      0.97      0.92      2000\n",
      "                Xã hội       0.72      0.61      0.66      4000\n",
      "\n",
      "              accuracy                           0.83     31388\n",
      "             macro avg       0.83      0.85      0.84     31388\n",
      "          weighted avg       0.83      0.83      0.83     31388\n",
      "\n"
     ]
    }
   ],
   "source": [
    "\n",
    "sgd = SGDClassifier(loss='hinge', max_iter=10000, class_weight='balanced', n_jobs=-1)\n",
    "sgd.fit(X_train, y_train)\n",
    "y_pred_sgd = sgd.predict(X_test)\n",
    "\n",
    "print(\"=== SGD Regression ===\")\n",
    "print(classification_report(y_test, y_pred_lr, target_names=le.classes_))"
   ]
  },
  {
   "cell_type": "code",
   "execution_count": 99,
   "id": "66b8909e",
   "metadata": {},
   "outputs": [
    {
     "data": {
      "text/plain": [
       "array(['Sức khỏe - Đời sống'], dtype=object)"
      ]
     },
     "execution_count": 99,
     "metadata": {},
     "output_type": "execute_result"
    }
   ],
   "source": [
    "new = sgd.predict(vector.transform([\"Mỡ nội tạng là một loại mỡ nằm sâu trong bụng, bao quanh các cơ quan như gan và ruột. Không giống như mỡ dưới da, bạn không thể nhìn thấy mỡ nội tạng. Tuy nhiên, mỡ nội tạng gây ra đủ loại vấn đề cho sức khỏe.\"]))\n",
    "le.inverse_transform(new)"
   ]
  },
  {
   "cell_type": "code",
   "execution_count": 101,
   "id": "9f1834f6",
   "metadata": {},
   "outputs": [
    {
     "data": {
      "text/plain": [
       "['Vectorizer.pkl']"
      ]
     },
     "execution_count": 101,
     "metadata": {},
     "output_type": "execute_result"
    }
   ],
   "source": [
    "import joblib\n",
    "\n",
    "joblib.dump(lr,\"LogisticRegression.pkl\")\n",
    "joblib.dump(sgd,\"SGD.pkl\")\n",
    "joblib.dump(vector, \"Vectorizer.pkl\")"
   ]
  },
  {
   "cell_type": "code",
   "execution_count": 102,
   "id": "cb2fe00d",
   "metadata": {},
   "outputs": [
    {
     "name": "stdout",
     "output_type": "stream",
     "text": [
      "mua lamborghini giá tốt cho người dân\n"
     ]
    }
   ],
   "source": [
    "import re\n",
    "\n",
    "def preprocess_text(text):\n",
    "    # 1. Chuyển tất cả sang string\n",
    "    if not isinstance(text, str):\n",
    "        text = \"\"\n",
    "\n",
    "    # 2. Lowercase\n",
    "    text = text.lower()\n",
    "\n",
    "    # 3. Thay \\n, \\t, nhiều space bằng 1 space\n",
    "    text = re.sub(r\"[\\n\\t]+\", \" \", text)      # bỏ xuống dòng và tab\n",
    "    text = re.sub(r\"\\s+\", \" \", text).strip()  # bỏ nhiều space liên tiếp\n",
    "\n",
    "    # 4. Loại ký tự không phải chữ/số/space (giữ tiếng Việt)\n",
    "    text = re.sub(\n",
    "        r\"[^0-9a-zàáạảãâầấậẩẫăằắặẳẵèéẹẻẽêềếệểễ\"\n",
    "        r\"ìíịỉĩòóọỏõôồốộổỗơờớợởỡùúụủũưừứựửữ\"\n",
    "        r\"ỳýỵỷỹđ\\s]\", \" \", text\n",
    "    )\n",
    "    text = re.sub(r\"\\s+\", \" \", text).strip()  # dọn sạch lại khoảng trắng\n",
    "    return text\n",
    "\n",
    "# Ví dụ\n",
    "raw_text = \"\"\"\n",
    "Mua Lamborghini 😎\n",
    "\"Giá tốt\" cho người dân\n",
    "\"\"\"\n",
    "clean_text = preprocess_text(raw_text)\n",
    "print(clean_text)"
   ]
  }
 ],
 "metadata": {
  "kernelspec": {
   "display_name": "dantri_classification",
   "language": "python",
   "name": "python3"
  },
  "language_info": {
   "codemirror_mode": {
    "name": "ipython",
    "version": 3
   },
   "file_extension": ".py",
   "mimetype": "text/x-python",
   "name": "python",
   "nbconvert_exporter": "python",
   "pygments_lexer": "ipython3",
   "version": "3.11.13"
  }
 },
 "nbformat": 4,
 "nbformat_minor": 5
}
