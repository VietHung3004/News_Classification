{
 "cells": [
  {
   "cell_type": "code",
   "execution_count": 432,
   "id": "9358ef0a",
   "metadata": {},
   "outputs": [],
   "source": [
    "import pandas as pd"
   ]
  },
  {
   "cell_type": "code",
   "execution_count": 433,
   "id": "4683fff0",
   "metadata": {},
   "outputs": [
    {
     "data": {
      "text/html": [
       "<div>\n",
       "<style scoped>\n",
       "    .dataframe tbody tr th:only-of-type {\n",
       "        vertical-align: middle;\n",
       "    }\n",
       "\n",
       "    .dataframe tbody tr th {\n",
       "        vertical-align: top;\n",
       "    }\n",
       "\n",
       "    .dataframe thead th {\n",
       "        text-align: right;\n",
       "    }\n",
       "</style>\n",
       "<table border=\"1\" class=\"dataframe\">\n",
       "  <thead>\n",
       "    <tr style=\"text-align: right;\">\n",
       "      <th></th>\n",
       "      <th>Unnamed: 0.1</th>\n",
       "      <th>Unnamed: 0</th>\n",
       "      <th>id</th>\n",
       "      <th>author</th>\n",
       "      <th>content</th>\n",
       "      <th>picture_count</th>\n",
       "      <th>processed</th>\n",
       "      <th>source</th>\n",
       "      <th>title</th>\n",
       "      <th>topic</th>\n",
       "      <th>url</th>\n",
       "      <th>crawled_at</th>\n",
       "    </tr>\n",
       "  </thead>\n",
       "  <tbody>\n",
       "    <tr>\n",
       "      <th>0</th>\n",
       "      <td>0</td>\n",
       "      <td>0</td>\n",
       "      <td>218270</td>\n",
       "      <td>NaN</td>\n",
       "      <td>Chiều 31/7, Công an tỉnh Thừa Thiên - Huế thôn...</td>\n",
       "      <td>3</td>\n",
       "      <td>0</td>\n",
       "      <td>docbao.vn</td>\n",
       "      <td>Tên cướp tiệm vàng Huế đại uý công an, công tá...</td>\n",
       "      <td>Pháp luật</td>\n",
       "      <td>https://docbao.vn/phap-luat/ten-cuop-tiem-vang...</td>\n",
       "      <td>2022-08-01 09:09:22.817308</td>\n",
       "    </tr>\n",
       "    <tr>\n",
       "      <th>1</th>\n",
       "      <td>1</td>\n",
       "      <td>1</td>\n",
       "      <td>218269</td>\n",
       "      <td>doãn hằng</td>\n",
       "      <td>Gần đây, Thứ trưởng Bộ Phát triển Kỹ thuật số,...</td>\n",
       "      <td>1</td>\n",
       "      <td>0</td>\n",
       "      <td>vtc.vn</td>\n",
       "      <td>Bỏ mạng 5G, Nga tiến thẳng 4G 6G</td>\n",
       "      <td>Sức khỏe - Đời sống</td>\n",
       "      <td>https://vtc.vn/bo-qua-mang-5g-nga-tien-thang-t...</td>\n",
       "      <td>2022-08-01 09:09:21.181469</td>\n",
       "    </tr>\n",
       "    <tr>\n",
       "      <th>2</th>\n",
       "      <td>2</td>\n",
       "      <td>2</td>\n",
       "      <td>218268</td>\n",
       "      <td>NaN</td>\n",
       "      <td>Kết thi nghiệp THPT 2022 trung bình môn toán, ...</td>\n",
       "      <td>3</td>\n",
       "      <td>0</td>\n",
       "      <td>thanhnien.vn</td>\n",
       "      <td>Địa phương đứng đầu tổng 3 môn văn, toán, ngoạ...</td>\n",
       "      <td>Giáo dục</td>\n",
       "      <td>https://thanhnien.vn/dia-phuong-nao-dung-dau-c...</td>\n",
       "      <td>2022-08-01 09:09:15.311901</td>\n",
       "    </tr>\n",
       "    <tr>\n",
       "      <th>3</th>\n",
       "      <td>3</td>\n",
       "      <td>3</td>\n",
       "      <td>218267</td>\n",
       "      <td>NaN</td>\n",
       "      <td>Thống đốc Kentucky Andy Beshear hôm 31/7 đợt m...</td>\n",
       "      <td>1</td>\n",
       "      <td>0</td>\n",
       "      <td>vnexpress</td>\n",
       "      <td>Người chết mưa lũ 'nghìn một' Mỹ 28</td>\n",
       "      <td>Thế giới</td>\n",
       "      <td>https://vnexpress.net/nguoi-chet-trong-mua-lu-...</td>\n",
       "      <td>2022-08-01 09:09:02.211498</td>\n",
       "    </tr>\n",
       "    <tr>\n",
       "      <th>4</th>\n",
       "      <td>4</td>\n",
       "      <td>4</td>\n",
       "      <td>218266</td>\n",
       "      <td>mi lan</td>\n",
       "      <td>Vụ tai nạn giao thông liên hoàn phố đi Tam Bạc...</td>\n",
       "      <td>12</td>\n",
       "      <td>0</td>\n",
       "      <td>soha</td>\n",
       "      <td>Hải Phòng: Hình ảnh xe \"điên\" tai nạn liên hoà...</td>\n",
       "      <td>Thời sự</td>\n",
       "      <td>https://soha.vn/hai-phong-hinh-anh-xe-dien-gay...</td>\n",
       "      <td>2022-08-01 09:09:01.601170</td>\n",
       "    </tr>\n",
       "  </tbody>\n",
       "</table>\n",
       "</div>"
      ],
      "text/plain": [
       "   Unnamed: 0.1  Unnamed: 0      id      author  \\\n",
       "0             0           0  218270         NaN   \n",
       "1             1           1  218269  doãn hằng    \n",
       "2             2           2  218268         NaN   \n",
       "3             3           3  218267         NaN   \n",
       "4             4           4  218266      mi lan   \n",
       "\n",
       "                                             content  picture_count  \\\n",
       "0  Chiều 31/7, Công an tỉnh Thừa Thiên - Huế thôn...              3   \n",
       "1  Gần đây, Thứ trưởng Bộ Phát triển Kỹ thuật số,...              1   \n",
       "2  Kết thi nghiệp THPT 2022 trung bình môn toán, ...              3   \n",
       "3  Thống đốc Kentucky Andy Beshear hôm 31/7 đợt m...              1   \n",
       "4  Vụ tai nạn giao thông liên hoàn phố đi Tam Bạc...             12   \n",
       "\n",
       "   processed        source                                              title  \\\n",
       "0          0     docbao.vn  Tên cướp tiệm vàng Huế đại uý công an, công tá...   \n",
       "1          0        vtc.vn                   Bỏ mạng 5G, Nga tiến thẳng 4G 6G   \n",
       "2          0  thanhnien.vn  Địa phương đứng đầu tổng 3 môn văn, toán, ngoạ...   \n",
       "3          0     vnexpress                Người chết mưa lũ 'nghìn một' Mỹ 28   \n",
       "4          0          soha  Hải Phòng: Hình ảnh xe \"điên\" tai nạn liên hoà...   \n",
       "\n",
       "                 topic                                                url  \\\n",
       "0            Pháp luật  https://docbao.vn/phap-luat/ten-cuop-tiem-vang...   \n",
       "1  Sức khỏe - Đời sống  https://vtc.vn/bo-qua-mang-5g-nga-tien-thang-t...   \n",
       "2             Giáo dục  https://thanhnien.vn/dia-phuong-nao-dung-dau-c...   \n",
       "3             Thế giới  https://vnexpress.net/nguoi-chet-trong-mua-lu-...   \n",
       "4              Thời sự  https://soha.vn/hai-phong-hinh-anh-xe-dien-gay...   \n",
       "\n",
       "                   crawled_at  \n",
       "0  2022-08-01 09:09:22.817308  \n",
       "1  2022-08-01 09:09:21.181469  \n",
       "2  2022-08-01 09:09:15.311901  \n",
       "3  2022-08-01 09:09:02.211498  \n",
       "4  2022-08-01 09:09:01.601170  "
      ]
     },
     "execution_count": 433,
     "metadata": {},
     "output_type": "execute_result"
    }
   ],
   "source": [
    "df = pd.read_csv(\"Fixed_news_dataset.csv\", encoding='utf-8')\n",
    "df.head()"
   ]
  },
  {
   "cell_type": "code",
   "execution_count": 434,
   "id": "4bbefd13",
   "metadata": {},
   "outputs": [
    {
     "name": "stdout",
     "output_type": "stream",
     "text": [
      "<class 'pandas.core.frame.DataFrame'>\n",
      "RangeIndex: 184539 entries, 0 to 184538\n",
      "Data columns (total 12 columns):\n",
      " #   Column         Non-Null Count   Dtype \n",
      "---  ------         --------------   ----- \n",
      " 0   Unnamed: 0.1   184539 non-null  int64 \n",
      " 1   Unnamed: 0     184539 non-null  int64 \n",
      " 2   id             184539 non-null  int64 \n",
      " 3   author         110923 non-null  object\n",
      " 4   content        161218 non-null  object\n",
      " 5   picture_count  184539 non-null  int64 \n",
      " 6   processed      184539 non-null  int64 \n",
      " 7   source         184534 non-null  object\n",
      " 8   title          184522 non-null  object\n",
      " 9   topic          184539 non-null  object\n",
      " 10  url            184539 non-null  object\n",
      " 11  crawled_at     184125 non-null  object\n",
      "dtypes: int64(5), object(7)\n",
      "memory usage: 16.9+ MB\n"
     ]
    }
   ],
   "source": [
    "df.info()"
   ]
  },
  {
   "cell_type": "code",
   "execution_count": 435,
   "id": "826643f4",
   "metadata": {},
   "outputs": [
    {
     "data": {
      "text/plain": [
       "np.int64(0)"
      ]
     },
     "execution_count": 435,
     "metadata": {},
     "output_type": "execute_result"
    }
   ],
   "source": [
    "df.duplicated().sum()"
   ]
  },
  {
   "cell_type": "code",
   "execution_count": 436,
   "id": "1db716a5",
   "metadata": {},
   "outputs": [
    {
     "data": {
      "text/plain": [
       "Unnamed: 0.1         0\n",
       "Unnamed: 0           0\n",
       "id                   0\n",
       "author           73616\n",
       "content          23321\n",
       "picture_count        0\n",
       "processed            0\n",
       "source               5\n",
       "title               17\n",
       "topic                0\n",
       "url                  0\n",
       "crawled_at         414\n",
       "dtype: int64"
      ]
     },
     "execution_count": 436,
     "metadata": {},
     "output_type": "execute_result"
    }
   ],
   "source": [
    "df.isnull().sum()"
   ]
  },
  {
   "cell_type": "code",
   "execution_count": 437,
   "id": "c1a807c4",
   "metadata": {},
   "outputs": [
    {
     "data": {
      "text/plain": [
       "16"
      ]
     },
     "execution_count": 437,
     "metadata": {},
     "output_type": "execute_result"
    }
   ],
   "source": [
    "null_content = df[\"content\"].isnull()\n",
    "null_title = df[\"title\"].isnull()\n",
    "delete_rows = df[null_content & null_title]\n",
    "len(delete_rows)"
   ]
  },
  {
   "cell_type": "code",
   "execution_count": 438,
   "id": "f6c98f59",
   "metadata": {},
   "outputs": [
    {
     "data": {
      "text/plain": [
       "topic\n",
       "Văn hóa - Giải trí        32040\n",
       "Sức khỏe - Đời sống       25578\n",
       "Thể thao                  22549\n",
       "Thế giới                  17386\n",
       "Thời sự                   16974\n",
       "Xã hội                    16630\n",
       "Kinh doanh - Tài chính    11175\n",
       "Pháp luật                 10807\n",
       "Giáo dục                   8166\n",
       "Kinh tế                    5581\n",
       "Xe                         4496\n",
       "Công nghệ                  4333\n",
       "Chính trị                  4113\n",
       "Bạn đọc                    1820\n",
       "Bất động sản               1532\n",
       "Quốc phòng                 1356\n",
       "Pháp luật                   3\n",
       "Name: count, dtype: int64"
      ]
     },
     "execution_count": 438,
     "metadata": {},
     "output_type": "execute_result"
    }
   ],
   "source": [
    "df[\"topic\"].value_counts()"
   ]
  },
  {
   "cell_type": "markdown",
   "id": "982739a3",
   "metadata": {},
   "source": [
    "# Data Clean\n"
   ]
  },
  {
   "cell_type": "code",
   "execution_count": 439,
   "id": "1c9d9444",
   "metadata": {},
   "outputs": [
    {
     "data": {
      "text/html": [
       "<div>\n",
       "<style scoped>\n",
       "    .dataframe tbody tr th:only-of-type {\n",
       "        vertical-align: middle;\n",
       "    }\n",
       "\n",
       "    .dataframe tbody tr th {\n",
       "        vertical-align: top;\n",
       "    }\n",
       "\n",
       "    .dataframe thead th {\n",
       "        text-align: right;\n",
       "    }\n",
       "</style>\n",
       "<table border=\"1\" class=\"dataframe\">\n",
       "  <thead>\n",
       "    <tr style=\"text-align: right;\">\n",
       "      <th></th>\n",
       "      <th>content</th>\n",
       "      <th>title</th>\n",
       "      <th>topic</th>\n",
       "    </tr>\n",
       "  </thead>\n",
       "  <tbody>\n",
       "    <tr>\n",
       "      <th>0</th>\n",
       "      <td>Chiều 31/7, Công an tỉnh Thừa Thiên - Huế thôn...</td>\n",
       "      <td>Tên cướp tiệm vàng Huế đại uý công an, công tá...</td>\n",
       "      <td>Pháp luật</td>\n",
       "    </tr>\n",
       "    <tr>\n",
       "      <th>1</th>\n",
       "      <td>Gần đây, Thứ trưởng Bộ Phát triển Kỹ thuật số,...</td>\n",
       "      <td>Bỏ mạng 5G, Nga tiến thẳng 4G 6G</td>\n",
       "      <td>Sức khỏe - Đời sống</td>\n",
       "    </tr>\n",
       "    <tr>\n",
       "      <th>2</th>\n",
       "      <td>Kết thi nghiệp THPT 2022 trung bình môn toán, ...</td>\n",
       "      <td>Địa phương đứng đầu tổng 3 môn văn, toán, ngoạ...</td>\n",
       "      <td>Giáo dục</td>\n",
       "    </tr>\n",
       "    <tr>\n",
       "      <th>3</th>\n",
       "      <td>Thống đốc Kentucky Andy Beshear hôm 31/7 đợt m...</td>\n",
       "      <td>Người chết mưa lũ 'nghìn một' Mỹ 28</td>\n",
       "      <td>Thế giới</td>\n",
       "    </tr>\n",
       "    <tr>\n",
       "      <th>4</th>\n",
       "      <td>Vụ tai nạn giao thông liên hoàn phố đi Tam Bạc...</td>\n",
       "      <td>Hải Phòng: Hình ảnh xe \"điên\" tai nạn liên hoà...</td>\n",
       "      <td>Thời sự</td>\n",
       "    </tr>\n",
       "  </tbody>\n",
       "</table>\n",
       "</div>"
      ],
      "text/plain": [
       "                                             content  \\\n",
       "0  Chiều 31/7, Công an tỉnh Thừa Thiên - Huế thôn...   \n",
       "1  Gần đây, Thứ trưởng Bộ Phát triển Kỹ thuật số,...   \n",
       "2  Kết thi nghiệp THPT 2022 trung bình môn toán, ...   \n",
       "3  Thống đốc Kentucky Andy Beshear hôm 31/7 đợt m...   \n",
       "4  Vụ tai nạn giao thông liên hoàn phố đi Tam Bạc...   \n",
       "\n",
       "                                               title                topic  \n",
       "0  Tên cướp tiệm vàng Huế đại uý công an, công tá...            Pháp luật  \n",
       "1                   Bỏ mạng 5G, Nga tiến thẳng 4G 6G  Sức khỏe - Đời sống  \n",
       "2  Địa phương đứng đầu tổng 3 môn văn, toán, ngoạ...             Giáo dục  \n",
       "3                Người chết mưa lũ 'nghìn một' Mỹ 28             Thế giới  \n",
       "4  Hải Phòng: Hình ảnh xe \"điên\" tai nạn liên hoà...              Thời sự  "
      ]
     },
     "execution_count": 439,
     "metadata": {},
     "output_type": "execute_result"
    }
   ],
   "source": [
    "import re\n",
    "import unicodedata\n",
    "\n",
    "df = df.drop(columns=[\n",
    "    \"Unnamed: 0.1\",\n",
    "    \"Unnamed: 0\",\n",
    "    \"id\",\n",
    "    \"author\",\n",
    "    \"picture_count\",\n",
    "    \"processed\",\n",
    "    \"source\",\n",
    "    \"url\",\n",
    "    \"crawled_at\"\n",
    "])\n",
    "\n",
    "df.head()"
   ]
  },
  {
   "cell_type": "code",
   "execution_count": 440,
   "id": "78114ab7",
   "metadata": {},
   "outputs": [
    {
     "name": "stdout",
     "output_type": "stream",
     "text": [
      "<class 'pandas.core.frame.DataFrame'>\n",
      "Index: 184523 entries, 0 to 184538\n",
      "Data columns (total 3 columns):\n",
      " #   Column   Non-Null Count   Dtype \n",
      "---  ------   --------------   ----- \n",
      " 0   content  161218 non-null  object\n",
      " 1   title    184522 non-null  object\n",
      " 2   topic    184523 non-null  object\n",
      "dtypes: object(3)\n",
      "memory usage: 5.6+ MB\n"
     ]
    }
   ],
   "source": [
    "df = df.drop(delete_rows.index)\n",
    "df.info()"
   ]
  },
  {
   "cell_type": "code",
   "execution_count": 441,
   "id": "ada3a951",
   "metadata": {},
   "outputs": [
    {
     "data": {
      "text/html": [
       "<div>\n",
       "<style scoped>\n",
       "    .dataframe tbody tr th:only-of-type {\n",
       "        vertical-align: middle;\n",
       "    }\n",
       "\n",
       "    .dataframe tbody tr th {\n",
       "        vertical-align: top;\n",
       "    }\n",
       "\n",
       "    .dataframe thead th {\n",
       "        text-align: right;\n",
       "    }\n",
       "</style>\n",
       "<table border=\"1\" class=\"dataframe\">\n",
       "  <thead>\n",
       "    <tr style=\"text-align: right;\">\n",
       "      <th></th>\n",
       "      <th>topic</th>\n",
       "      <th>text</th>\n",
       "    </tr>\n",
       "  </thead>\n",
       "  <tbody>\n",
       "    <tr>\n",
       "      <th>0</th>\n",
       "      <td>Pháp luật</td>\n",
       "      <td>Tên cướp tiệm vàng Huế đại uý công an, công tá...</td>\n",
       "    </tr>\n",
       "    <tr>\n",
       "      <th>1</th>\n",
       "      <td>Sức khỏe - Đời sống</td>\n",
       "      <td>Bỏ mạng 5G, Nga tiến thẳng 4G 6G Gần đây, Thứ ...</td>\n",
       "    </tr>\n",
       "    <tr>\n",
       "      <th>2</th>\n",
       "      <td>Giáo dục</td>\n",
       "      <td>Địa phương đứng đầu tổng 3 môn văn, toán, ngoạ...</td>\n",
       "    </tr>\n",
       "    <tr>\n",
       "      <th>3</th>\n",
       "      <td>Thế giới</td>\n",
       "      <td>Người chết mưa lũ 'nghìn một' Mỹ 28 Thống đốc ...</td>\n",
       "    </tr>\n",
       "    <tr>\n",
       "      <th>4</th>\n",
       "      <td>Thời sự</td>\n",
       "      <td>Hải Phòng: Hình ảnh xe \"điên\" tai nạn liên hoà...</td>\n",
       "    </tr>\n",
       "  </tbody>\n",
       "</table>\n",
       "</div>"
      ],
      "text/plain": [
       "                 topic                                               text\n",
       "0            Pháp luật  Tên cướp tiệm vàng Huế đại uý công an, công tá...\n",
       "1  Sức khỏe - Đời sống  Bỏ mạng 5G, Nga tiến thẳng 4G 6G Gần đây, Thứ ...\n",
       "2             Giáo dục  Địa phương đứng đầu tổng 3 môn văn, toán, ngoạ...\n",
       "3             Thế giới  Người chết mưa lũ 'nghìn một' Mỹ 28 Thống đốc ...\n",
       "4              Thời sự  Hải Phòng: Hình ảnh xe \"điên\" tai nạn liên hoà..."
      ]
     },
     "execution_count": 441,
     "metadata": {},
     "output_type": "execute_result"
    }
   ],
   "source": [
    "df[\"text\"] = df[\"title\"] + \" \" + df[\"content\"]\n",
    "df = df.drop(columns=[\"title\", \"content\"])\n",
    "df.head()"
   ]
  },
  {
   "cell_type": "code",
   "execution_count": 442,
   "id": "b4035f84",
   "metadata": {},
   "outputs": [
    {
     "name": "stderr",
     "output_type": "stream",
     "text": [
      "C:\\Users\\Lenovo\\AppData\\Local\\Temp\\ipykernel_11980\\2301317726.py:1: FutureWarning: DataFrame.applymap has been deprecated. Use DataFrame.map instead.\n",
      "  df = df.applymap(lambda x: unicodedata.normalize('NFC',x)if isinstance(x, str) else x)\n"
     ]
    },
    {
     "data": {
      "text/plain": [
       "topic\n",
       "Văn hóa - Giải trí        32024\n",
       "Sức khỏe - Đời sống       25578\n",
       "Thể thao                  22549\n",
       "Thế giới                  17386\n",
       "Thời sự                   16974\n",
       "Xã hội                    16630\n",
       "Kinh doanh - Tài chính    11175\n",
       "Pháp luật                 10810\n",
       "Giáo dục                   8166\n",
       "Kinh tế                    5581\n",
       "Xe                         4496\n",
       "Công nghệ                  4333\n",
       "Chính trị                  4113\n",
       "Bạn đọc                    1820\n",
       "Bất động sản               1532\n",
       "Quốc phòng                 1356\n",
       "Name: count, dtype: int64"
      ]
     },
     "execution_count": 442,
     "metadata": {},
     "output_type": "execute_result"
    }
   ],
   "source": [
    "df = df.applymap(lambda x: unicodedata.normalize('NFC',x)if isinstance(x, str) else x)\n",
    "df[\"topic\"].value_counts()"
   ]
  },
  {
   "cell_type": "code",
   "execution_count": 443,
   "id": "77b5d413",
   "metadata": {},
   "outputs": [],
   "source": [
    "def clean_text(text):\n",
    "    if not isinstance(text, str):\n",
    "        return \"\"\n",
    "    text = text.lower()\n",
    "    text = re.sub(r\"http\\S+|www\\S+\", \" \", text)\n",
    "    text = re.sub(r\"[^0-9a-zàáạảãâầấậẩẫăằắặẳẵèéẹẻẽêềếệểễ\"\n",
    "                  r\"ìíịỉĩòóọỏõôồốộổỗơờớợởỡùúụủũưừứựửữ\"\n",
    "                  r\"ỳýỵỷỹđ\\s]\", \" \", text)\n",
    "    text = re.sub(r\"\\s+\", \" \", text).strip()\n",
    "    return text\n",
    "df[\"clean_text\"] = df[\"text\"].apply(clean_text)\n",
    "\n",
    "# 2. Bỏ NaN và chuỗi rỗng\n",
    "df = df[df[\"clean_text\"].notna() & (df[\"clean_text\"].str.strip() != \"\")].copy()\n",
    "\n",
    "# 3. Đảm bảo kiểu str\n",
    "df[\"clean_text\"] = df[\"clean_text\"].astype(str)\n",
    "df.drop(columns=[\"text\"], inplace=True)\n",
    "#df.to_csv(\"Cleaned_news_dataset.csv\", index=False, encoding='utf-8')"
   ]
  },
  {
   "cell_type": "markdown",
   "id": "95298246",
   "metadata": {},
   "source": [
    "Explore Data Analysis"
   ]
  },
  {
   "cell_type": "code",
   "execution_count": 444,
   "id": "cc58bd68",
   "metadata": {},
   "outputs": [],
   "source": [
    "import matplotlib.pyplot as plt\n",
    "import seaborn as sns\n",
    "import numpy as np\n"
   ]
  },
  {
   "cell_type": "code",
   "execution_count": 445,
   "id": "c95a0f76",
   "metadata": {},
   "outputs": [
    {
     "data": {
      "text/html": [
       "<div>\n",
       "<style scoped>\n",
       "    .dataframe tbody tr th:only-of-type {\n",
       "        vertical-align: middle;\n",
       "    }\n",
       "\n",
       "    .dataframe tbody tr th {\n",
       "        vertical-align: top;\n",
       "    }\n",
       "\n",
       "    .dataframe thead th {\n",
       "        text-align: right;\n",
       "    }\n",
       "</style>\n",
       "<table border=\"1\" class=\"dataframe\">\n",
       "  <thead>\n",
       "    <tr style=\"text-align: right;\">\n",
       "      <th></th>\n",
       "      <th>topic</th>\n",
       "      <th>tokens</th>\n",
       "    </tr>\n",
       "  </thead>\n",
       "  <tbody>\n",
       "    <tr>\n",
       "      <th>0</th>\n",
       "      <td>Pháp luật</td>\n",
       "      <td>tên cướp tiệm vàng huế đại_úy công_an công_tác...</td>\n",
       "    </tr>\n",
       "    <tr>\n",
       "      <th>1</th>\n",
       "      <td>Sức khỏe - Đời sống</td>\n",
       "      <td>bỏ mạng 5 g nga tiến thẳng 4 g 6 g gần đây thứ...</td>\n",
       "    </tr>\n",
       "    <tr>\n",
       "      <th>2</th>\n",
       "      <td>Giáo dục</td>\n",
       "      <td>địa_phương đứng đầu tổng 3 môn văn_toán ngoại_...</td>\n",
       "    </tr>\n",
       "    <tr>\n",
       "      <th>3</th>\n",
       "      <td>Thế giới</td>\n",
       "      <td>người chết mưa_lũ nghìn một mỹ 28 thống_đốc ke...</td>\n",
       "    </tr>\n",
       "    <tr>\n",
       "      <th>4</th>\n",
       "      <td>Thời sự</td>\n",
       "      <td>hải_phòng hình_ảnh xe điên tai_nạn liên_hoàn p...</td>\n",
       "    </tr>\n",
       "  </tbody>\n",
       "</table>\n",
       "</div>"
      ],
      "text/plain": [
       "                 topic                                             tokens\n",
       "0            Pháp luật  tên cướp tiệm vàng huế đại_úy công_an công_tác...\n",
       "1  Sức khỏe - Đời sống  bỏ mạng 5 g nga tiến thẳng 4 g 6 g gần đây thứ...\n",
       "2             Giáo dục  địa_phương đứng đầu tổng 3 môn văn_toán ngoại_...\n",
       "3             Thế giới  người chết mưa_lũ nghìn một mỹ 28 thống_đốc ke...\n",
       "4              Thời sự  hải_phòng hình_ảnh xe điên tai_nạn liên_hoàn p..."
      ]
     },
     "execution_count": 445,
     "metadata": {},
     "output_type": "execute_result"
    }
   ],
   "source": [
    "data = pd.read_csv(\"Data_tokenized.csv\", encoding='utf-8')\n",
    "data.head()"
   ]
  },
  {
   "cell_type": "code",
   "execution_count": 446,
   "id": "930a3658",
   "metadata": {},
   "outputs": [
    {
     "data": {
      "image/png": "[encoded data removed]",
      "text/plain": [
       "<Figure size 1000x600 with 1 Axes>"
      ]
     },
     "metadata": {},
     "output_type": "display_data"
    }
   ],
   "source": [
    "plt.figure(figsize=(10,6))\n",
    "sns.countplot(data=data, x='topic', order=data['topic'].value_counts().index)\n",
    "plt.title('Distribution of News Topics')\n",
    "plt.xlabel('Topic')\n",
    "plt.ylabel('Number of Articles')\n",
    "plt.xticks(rotation=45)\n",
    "plt.show()"
   ]
  },
  {
   "cell_type": "code",
   "execution_count": 447,
   "id": "07ebdcb2",
   "metadata": {},
   "outputs": [
    {
     "data": {
      "image/png": "[encoded data removed]",
      "text/plain": [
       "<Figure size 1000x600 with 1 Axes>"
      ]
     },
     "metadata": {},
     "output_type": "display_data"
    }
   ],
   "source": [
    "import matplotlib.pyplot as plt\n",
    "import seaborn as sns\n",
    "import numpy as np\n",
    "\n",
    "# 1. Lọc các bản ghi có tokens hợp lệ\n",
    "data_clean = data[data['tokens'].notna() & (data['tokens'].str.len() > 0)].copy()\n",
    "\n",
    "# 2. Tính độ dài câu dựa trên số token\n",
    "data_clean['sentence_length'] = data_clean['tokens'].apply(len)\n",
    "\n",
    "# 3. Lọc câu ngắn để histogram đẹp (ví dụ <=1000 từ)\n",
    "filtered_lengths = data_clean['sentence_length'][data_clean['sentence_length'] <= 10000]\n",
    "\n",
    "# 4. Vẽ histogram với gradient màu\n",
    "counts, bins = np.histogram(filtered_lengths, bins=30)\n",
    "plt.figure(figsize=(10,6))\n",
    "for i in range(len(counts)):\n",
    "    plt.bar(bins[i], counts[i], width=bins[i+1]-bins[i],\n",
    "            color=plt.cm.Blues(counts[i]/max(counts)), edgecolor=\"black\", alpha=0.8)\n",
    "\n",
    "# 5. Thêm KDE\n",
    "sns.kdeplot(filtered_lengths, color='red', linewidth=2)\n",
    "\n",
    "# 6. Trang trí\n",
    "plt.title(\"Sentence Length Distribution (Number of Tokens <= 1000)\", fontsize=14, fontweight=\"bold\")\n",
    "plt.xlabel(\"Number of Tokens\", fontsize=12)\n",
    "plt.ylabel(\"Frequency\", fontsize=12)\n",
    "plt.grid(axis=\"y\", linestyle=\"--\", alpha=0.5)\n",
    "plt.tight_layout()\n",
    "plt.show()\n"
   ]
  },
  {
   "cell_type": "markdown",
   "id": "bf0e72bd",
   "metadata": {},
   "source": [
    "# DataPreProcessing"
   ]
  },
  {
   "cell_type": "code",
   "execution_count": 448,
   "id": "f66a9d39",
   "metadata": {},
   "outputs": [
    {
     "data": {
      "text/plain": [
       "topic\n",
       "Sức khỏe - Đời sống       23241\n",
       "Văn hóa - Giải trí        21224\n",
       "Thể thao                  19263\n",
       "Thế giới                  16682\n",
       "Xã hội                    15580\n",
       "Thời sự                   15205\n",
       "Pháp luật                 10650\n",
       "Kinh doanh - Tài chính    10313\n",
       "Giáo dục                   7631\n",
       "Kinh tế                    5255\n",
       "Công nghệ                  4248\n",
       "Chính trị                  4032\n",
       "Xe                         3795\n",
       "Bạn đọc                    1715\n",
       "Bất động sản               1457\n",
       "Quốc phòng                  925\n",
       "Name: count, dtype: int64"
      ]
     },
     "execution_count": 448,
     "metadata": {},
     "output_type": "execute_result"
    }
   ],
   "source": [
    "from sklearn.model_selection import train_test_split\n",
    "from sklearn.preprocessing import LabelEncoder\n",
    "from xgboost import XGBClassifier\n",
    "from sklearn.metrics import classification_report, confusion_matrix\n",
    "from sklearn.feature_extraction.text import TfidfVectorizer\n",
    "from sklearn.naive_bayes import MultinomialNB\n",
    "from imblearn.over_sampling import SMOTE\n",
    "from imblearn.under_sampling import RandomUnderSampler\n",
    "data[\"topic\"].value_counts()"
   ]
  },
  {
   "cell_type": "code",
   "execution_count": 449,
   "id": "3487eb47",
   "metadata": {},
   "outputs": [
    {
     "data": {
      "text/plain": [
       "topic\n",
       "Xã hội                    32500\n",
       "Sức khỏe - Đời sống       23241\n",
       "Thế giới                  21639\n",
       "Văn hóa - Giải trí        21224\n",
       "Thể thao                  19263\n",
       "Kinh doanh - Tài chính    17025\n",
       "Pháp luật                 10650\n",
       "Giáo dục                   7631\n",
       "Công nghệ                  4248\n",
       "Xe                         3795\n",
       "Name: count, dtype: int64"
      ]
     },
     "execution_count": 449,
     "metadata": {},
     "output_type": "execute_result"
    }
   ],
   "source": [
    "merge1 = {\n",
    "    \"Quốc phòng\": \"Chính trị\",\n",
    "    \"Bất động sản\": \"Kinh doanh - Tài chính\",\n",
    "    \"Bạn đọc\": \"Xã hội\",\n",
    "    \"Kinh tế\": \"Kinh doanh - Tài chính\",\n",
    "    \"Thời sự\": \"Xã hội\"\n",
    "}\n",
    "\n",
    "data[\"topic\"] = data[\"topic\"].replace(merge1)\n",
    "\n",
    "# Sau đó gộp “Chính trị” vào “Thế giới”\n",
    "data[\"topic\"] = data[\"topic\"].replace({\"Chính trị\": \"Thế giới\"})\n",
    "\n",
    "data[\"topic\"].value_counts()\n"
   ]
  },
  {
   "cell_type": "code",
   "execution_count": 450,
   "id": "7c911e24",
   "metadata": {},
   "outputs": [
    {
     "data": {
      "text/plain": [
       "topic\n",
       "9    32500\n",
       "4    23241\n",
       "5    21639\n",
       "7    21224\n",
       "6    19263\n",
       "2    17025\n",
       "3    10650\n",
       "1     7631\n",
       "0     4248\n",
       "8     3795\n",
       "Name: count, dtype: int64"
      ]
     },
     "execution_count": 450,
     "metadata": {},
     "output_type": "execute_result"
    }
   ],
   "source": [
    "le = LabelEncoder()\n",
    "data[\"topic\"] = le.fit_transform(data[\"topic\"])\n",
    "data[\"topic\"].value_counts()"
   ]
  },
  {
   "cell_type": "code",
   "execution_count": 453,
   "id": "ec80ed02",
   "metadata": {},
   "outputs": [
    {
     "ename": "MemoryError",
     "evalue": "",
     "output_type": "error",
     "traceback": [
      "\u001b[31m---------------------------------------------------------------------------\u001b[39m",
      "\u001b[31mMemoryError\u001b[39m                               Traceback (most recent call last)",
      "\u001b[36mCell\u001b[39m\u001b[36m \u001b[39m\u001b[32mIn[453]\u001b[39m\u001b[32m, line 7\u001b[39m\n\u001b[32m      1\u001b[39m vector = TfidfVectorizer(\n\u001b[32m      2\u001b[39m     max_features=\u001b[32m20000\u001b[39m,\n\u001b[32m      3\u001b[39m     ngram_range=(\u001b[32m1\u001b[39m, \u001b[32m2\u001b[39m),\n\u001b[32m      4\u001b[39m     min_df=\u001b[32m5\u001b[39m,\n\u001b[32m      5\u001b[39m     max_df=\u001b[32m0.9\u001b[39m,\n\u001b[32m      6\u001b[39m     sublinear_tf=\u001b[38;5;28;01mTrue\u001b[39;00m )\n\u001b[32m----> \u001b[39m\u001b[32m7\u001b[39m X = \u001b[43mvector\u001b[49m\u001b[43m.\u001b[49m\u001b[43mfit_transform\u001b[49m\u001b[43m(\u001b[49m\u001b[43mdata\u001b[49m\u001b[43m[\u001b[49m\u001b[33;43m\"\u001b[39;49m\u001b[33;43mtokens\u001b[39;49m\u001b[33;43m\"\u001b[39;49m\u001b[43m]\u001b[49m\u001b[43m)\u001b[49m\n\u001b[32m      8\u001b[39m y = data[\u001b[33m\"\u001b[39m\u001b[33mtopic\u001b[39m\u001b[33m\"\u001b[39m]\n",
      "\u001b[36mFile \u001b[39m\u001b[32md:\\Software\\miniconda\\envs\\dantri_classification\\Lib\\site-packages\\sklearn\\feature_extraction\\text.py:2104\u001b[39m, in \u001b[36mTfidfVectorizer.fit_transform\u001b[39m\u001b[34m(self, raw_documents, y)\u001b[39m\n\u001b[32m   2097\u001b[39m \u001b[38;5;28mself\u001b[39m._check_params()\n\u001b[32m   2098\u001b[39m \u001b[38;5;28mself\u001b[39m._tfidf = TfidfTransformer(\n\u001b[32m   2099\u001b[39m     norm=\u001b[38;5;28mself\u001b[39m.norm,\n\u001b[32m   2100\u001b[39m     use_idf=\u001b[38;5;28mself\u001b[39m.use_idf,\n\u001b[32m   2101\u001b[39m     smooth_idf=\u001b[38;5;28mself\u001b[39m.smooth_idf,\n\u001b[32m   2102\u001b[39m     sublinear_tf=\u001b[38;5;28mself\u001b[39m.sublinear_tf,\n\u001b[32m   2103\u001b[39m )\n\u001b[32m-> \u001b[39m\u001b[32m2104\u001b[39m X = \u001b[38;5;28;43msuper\u001b[39;49m\u001b[43m(\u001b[49m\u001b[43m)\u001b[49m\u001b[43m.\u001b[49m\u001b[43mfit_transform\u001b[49m\u001b[43m(\u001b[49m\u001b[43mraw_documents\u001b[49m\u001b[43m)\u001b[49m\n\u001b[32m   2105\u001b[39m \u001b[38;5;28mself\u001b[39m._tfidf.fit(X)\n\u001b[32m   2106\u001b[39m \u001b[38;5;66;03m# X is already a transformed view of raw_documents so\u001b[39;00m\n\u001b[32m   2107\u001b[39m \u001b[38;5;66;03m# we set copy to False\u001b[39;00m\n",
      "\u001b[36mFile \u001b[39m\u001b[32md:\\Software\\miniconda\\envs\\dantri_classification\\Lib\\site-packages\\sklearn\\base.py:1365\u001b[39m, in \u001b[36m_fit_context.<locals>.decorator.<locals>.wrapper\u001b[39m\u001b[34m(estimator, *args, **kwargs)\u001b[39m\n\u001b[32m   1358\u001b[39m     estimator._validate_params()\n\u001b[32m   1360\u001b[39m \u001b[38;5;28;01mwith\u001b[39;00m config_context(\n\u001b[32m   1361\u001b[39m     skip_parameter_validation=(\n\u001b[32m   1362\u001b[39m         prefer_skip_nested_validation \u001b[38;5;129;01mor\u001b[39;00m global_skip_validation\n\u001b[32m   1363\u001b[39m     )\n\u001b[32m   1364\u001b[39m ):\n\u001b[32m-> \u001b[39m\u001b[32m1365\u001b[39m     \u001b[38;5;28;01mreturn\u001b[39;00m \u001b[43mfit_method\u001b[49m\u001b[43m(\u001b[49m\u001b[43mestimator\u001b[49m\u001b[43m,\u001b[49m\u001b[43m \u001b[49m\u001b[43m*\u001b[49m\u001b[43margs\u001b[49m\u001b[43m,\u001b[49m\u001b[43m \u001b[49m\u001b[43m*\u001b[49m\u001b[43m*\u001b[49m\u001b[43mkwargs\u001b[49m\u001b[43m)\u001b[49m\n",
      "\u001b[36mFile \u001b[39m\u001b[32md:\\Software\\miniconda\\envs\\dantri_classification\\Lib\\site-packages\\sklearn\\feature_extraction\\text.py:1376\u001b[39m, in \u001b[36mCountVectorizer.fit_transform\u001b[39m\u001b[34m(self, raw_documents, y)\u001b[39m\n\u001b[32m   1368\u001b[39m             warnings.warn(\n\u001b[32m   1369\u001b[39m                 \u001b[33m\"\u001b[39m\u001b[33mUpper case characters found in\u001b[39m\u001b[33m\"\u001b[39m\n\u001b[32m   1370\u001b[39m                 \u001b[33m\"\u001b[39m\u001b[33m vocabulary while \u001b[39m\u001b[33m'\u001b[39m\u001b[33mlowercase\u001b[39m\u001b[33m'\u001b[39m\u001b[33m\"\u001b[39m\n\u001b[32m   1371\u001b[39m                 \u001b[33m\"\u001b[39m\u001b[33m is True. These entries will not\u001b[39m\u001b[33m\"\u001b[39m\n\u001b[32m   1372\u001b[39m                 \u001b[33m\"\u001b[39m\u001b[33m be matched with any documents\u001b[39m\u001b[33m\"\u001b[39m\n\u001b[32m   1373\u001b[39m             )\n\u001b[32m   1374\u001b[39m             \u001b[38;5;28;01mbreak\u001b[39;00m\n\u001b[32m-> \u001b[39m\u001b[32m1376\u001b[39m vocabulary, X = \u001b[38;5;28;43mself\u001b[39;49m\u001b[43m.\u001b[49m\u001b[43m_count_vocab\u001b[49m\u001b[43m(\u001b[49m\u001b[43mraw_documents\u001b[49m\u001b[43m,\u001b[49m\u001b[43m \u001b[49m\u001b[38;5;28;43mself\u001b[39;49m\u001b[43m.\u001b[49m\u001b[43mfixed_vocabulary_\u001b[49m\u001b[43m)\u001b[49m\n\u001b[32m   1378\u001b[39m \u001b[38;5;28;01mif\u001b[39;00m \u001b[38;5;28mself\u001b[39m.binary:\n\u001b[32m   1379\u001b[39m     X.data.fill(\u001b[32m1\u001b[39m)\n",
      "\u001b[36mFile \u001b[39m\u001b[32md:\\Software\\miniconda\\envs\\dantri_classification\\Lib\\site-packages\\sklearn\\feature_extraction\\text.py:1274\u001b[39m, in \u001b[36mCountVectorizer._count_vocab\u001b[39m\u001b[34m(self, raw_documents, fixed_vocab)\u001b[39m\n\u001b[32m   1270\u001b[39m     \u001b[38;5;28;01mexcept\u001b[39;00m \u001b[38;5;167;01mKeyError\u001b[39;00m:\n\u001b[32m   1271\u001b[39m         \u001b[38;5;66;03m# Ignore out-of-vocabulary items for fixed_vocab=True\u001b[39;00m\n\u001b[32m   1272\u001b[39m         \u001b[38;5;28;01mcontinue\u001b[39;00m\n\u001b[32m-> \u001b[39m\u001b[32m1274\u001b[39m j_indices.extend(feature_counter.keys())\n\u001b[32m   1275\u001b[39m values.extend(feature_counter.values())\n\u001b[32m   1276\u001b[39m indptr.append(\u001b[38;5;28mlen\u001b[39m(j_indices))\n",
      "\u001b[31mMemoryError\u001b[39m: "
     ]
    }
   ],
   "source": [
    "vector = TfidfVectorizer(\n",
    "    max_features=20000,\n",
    "    ngram_range=(1, 2),\n",
    "    min_df=5,\n",
    "    max_df=0.9,\n",
    "    sublinear_tf=True )\n",
    "X = vector.fit_transform(data[\"tokens\"])\n",
    "y = data[\"topic\"]"
   ]
  },
  {
   "cell_type": "code",
   "execution_count": null,
   "id": "93b161e7",
   "metadata": {},
   "outputs": [
    {
     "data": {
      "text/plain": [
       "topic\n",
       "9    32500\n",
       "4    23241\n",
       "5    21639\n",
       "7    21224\n",
       "6    19263\n",
       "2    17025\n",
       "3    10650\n",
       "1     7631\n",
       "0     4248\n",
       "8     3795\n",
       "Name: count, dtype: int64"
      ]
     },
     "execution_count": 401,
     "metadata": {},
     "output_type": "execute_result"
    }
   ],
   "source": [
    "data[\"topic\"].value_counts()"
   ]
  },
  {
   "cell_type": "code",
   "execution_count": null,
   "id": "0c6d2cb1",
   "metadata": {},
   "outputs": [
    {
     "data": {
      "text/plain": [
       "topic\n",
       "4    20000\n",
       "5    20000\n",
       "9    20000\n",
       "7    20000\n",
       "6    19263\n",
       "2    17025\n",
       "3    10650\n",
       "1     7631\n",
       "0     4248\n",
       "8     3795\n",
       "Name: count, dtype: int64"
      ]
     },
     "execution_count": 405,
     "metadata": {},
     "output_type": "execute_result"
    }
   ],
   "source": [
    "Rus = RandomUnderSampler(sampling_strategy={9:20000,4:20000,5:20000,7:20000}, random_state=42)\n",
    "X_rus, y_rus = Rus.fit_resample(X, y)\n",
    "y_rus.value_counts()\n"
   ]
  },
  {
   "cell_type": "code",
   "execution_count": null,
   "id": "a33b51f7",
   "metadata": {},
   "outputs": [
    {
     "data": {
      "text/plain": [
       "topic\n",
       "4    20000\n",
       "5    20000\n",
       "9    20000\n",
       "7    20000\n",
       "6    19263\n",
       "2    17025\n",
       "3    10650\n",
       "0    10000\n",
       "1    10000\n",
       "8    10000\n",
       "Name: count, dtype: int64"
      ]
     },
     "execution_count": 408,
     "metadata": {},
     "output_type": "execute_result"
    }
   ],
   "source": [
    "smote = SMOTE(sampling_strategy={8:10000,0:10000,1:10000}, random_state=42)\n",
    "X_smote, y_smote = smote.fit_resample(X_rus, y_rus)\n",
    "y_smote.value_counts()"
   ]
  },
  {
   "cell_type": "code",
   "execution_count": null,
   "id": "0a0111bf",
   "metadata": {},
   "outputs": [],
   "source": [
    "X = X_smote\n",
    "y = y_smote\n",
    "\n",
    "X_train, X_test, y_train, y_test = train_test_split(X, y, test_size=0.2, random_state=42, stratify=y)"
   ]
  },
  {
   "cell_type": "code",
   "execution_count": null,
   "id": "30f2331a",
   "metadata": {},
   "outputs": [
    {
     "name": "stdout",
     "output_type": "stream",
     "text": [
      "Train size: 125550\n",
      "Test size: 31388\n",
      "Phân bố train:\n",
      " topic\n",
      "5    16000\n",
      "7    16000\n",
      "9    16000\n",
      "4    16000\n",
      "6    15410\n",
      "2    13620\n",
      "3     8520\n",
      "0     8000\n",
      "8     8000\n",
      "1     8000\n",
      "Name: count, dtype: int64\n",
      "Phân bố test:\n",
      " topic\n",
      "4    4000\n",
      "7    4000\n",
      "9    4000\n",
      "5    4000\n",
      "6    3853\n",
      "2    3405\n",
      "3    2130\n",
      "8    2000\n",
      "1    2000\n",
      "0    2000\n",
      "Name: count, dtype: int64\n"
     ]
    }
   ],
   "source": [
    "print(\"Train size:\", X_train.shape[0])\n",
    "print(\"Test size:\", X_test.shape[0])\n",
    "print(\"Phân bố train:\\n\", pd.Series(y_train).value_counts())\n",
    "print(\"Phân bố test:\\n\", pd.Series(y_test).value_counts())\n"
   ]
  },
  {
   "cell_type": "markdown",
   "id": "8b7c3ce6",
   "metadata": {},
   "source": [
    "# Model\n"
   ]
  },
  {
   "cell_type": "code",
   "execution_count": null,
   "id": "0e131ba4",
   "metadata": {},
   "outputs": [
    {
     "name": "stdout",
     "output_type": "stream",
     "text": [
      "                        precision    recall  f1-score   support\n",
      "\n",
      "             Công nghệ       0.75      0.83      0.79      2000\n",
      "              Giáo dục       0.81      0.74      0.78      2000\n",
      "Kinh doanh - Tài chính       0.77      0.77      0.77      3405\n",
      "             Pháp luật       0.73      0.88      0.80      2130\n",
      "   Sức khỏe - Đời sống       0.71      0.68      0.69      4000\n",
      "              Thế giới       0.84      0.79      0.81      4000\n",
      "              Thể thao       0.98      0.96      0.97      3853\n",
      "    Văn hóa - Giải trí       0.75      0.82      0.78      4000\n",
      "                    Xe       0.91      0.89      0.90      2000\n",
      "                Xã hội       0.63      0.57      0.60      4000\n",
      "\n",
      "              accuracy                           0.78     31388\n",
      "             macro avg       0.79      0.79      0.79     31388\n",
      "          weighted avg       0.78      0.78      0.78     31388\n",
      "\n"
     ]
    },
    {
     "data": {
      "text/plain": [
       "array([[1667,   26,   98,    3,   86,   37,   16,   30,   21,   16],\n",
       "       [ 146, 1483,   14,    5,  182,   51,    1,   70,   11,   37],\n",
       "       [ 135,   11, 2633,   39,  138,  127,    3,   40,   48,  231],\n",
       "       [   3,   17,   34, 1871,    8,   15,    0,   21,    2,  159],\n",
       "       [ 141,   79,  157,   37, 2713,   47,   13,  550,   26,  237],\n",
       "       [  39,   18,  118,   45,  111, 3147,    1,   97,    3,  421],\n",
       "       [   8,    3,    8,    0,   19,    3, 3694,   97,    2,   19],\n",
       "       [  30,   46,   46,   26,  239,  143,   35, 3262,   21,  152],\n",
       "       [  18,    1,   50,   10,   17,    2,    3,   29, 1782,   88],\n",
       "       [  23,  139,  274,  537,  330,  179,   13,  172,   48, 2285]])"
      ]
     },
     "execution_count": 420,
     "metadata": {},
     "output_type": "execute_result"
    }
   ],
   "source": [
    "bayes = MultinomialNB()\n",
    "bayes.fit(X_train, y_train)\n",
    "y_pred = bayes.predict(X_test)\n",
    "print(classification_report(y_test, y_pred, target_names=le.classes_))\n",
    "confusion_matrix(y_test, y_pred)"
   ]
  },
  {
   "cell_type": "code",
   "execution_count": null,
   "id": "90bdb14e",
   "metadata": {},
   "outputs": [
    {
     "data": {
      "text/plain": [
       "array(['Văn hóa - Giải trí'], dtype=object)"
      ]
     },
     "execution_count": 428,
     "metadata": {},
     "output_type": "execute_result"
    }
   ],
   "source": [
    "new = bayes.predict(vector.transform([\"Phương Nam suýt trượt vai Tạ trong phim Mưa đỏ vì... đẹp trai\"]))\n",
    "le.inverse_transform(new)"
   ]
  },
  {
   "cell_type": "code",
   "execution_count": null,
   "id": "fa0e48ca",
   "metadata": {},
   "outputs": [
    {
     "ename": "XGBoostError",
     "evalue": "[16:33:19] C:\\actions-runner\\_work\\xgboost\\xgboost\\src\\common\\io.h:389: bad_malloc: Failed to allocate 4837805328 bytes.",
     "output_type": "error",
     "traceback": [
      "\u001b[31m---------------------------------------------------------------------------\u001b[39m",
      "\u001b[31mXGBoostError\u001b[39m                              Traceback (most recent call last)",
      "\u001b[36mCell\u001b[39m\u001b[36m \u001b[39m\u001b[32mIn[431]\u001b[39m\u001b[32m, line 10\u001b[39m\n\u001b[32m      1\u001b[39m xgb = XGBClassifier(\n\u001b[32m      2\u001b[39m     n_estimators=\u001b[32m300\u001b[39m,\n\u001b[32m      3\u001b[39m     max_depth=\u001b[32m8\u001b[39m,\n\u001b[32m   (...)\u001b[39m\u001b[32m      8\u001b[39m     random_state=\u001b[32m42\u001b[39m    \n\u001b[32m      9\u001b[39m )\n\u001b[32m---> \u001b[39m\u001b[32m10\u001b[39m \u001b[43mxgb\u001b[49m\u001b[43m.\u001b[49m\u001b[43mfit\u001b[49m\u001b[43m(\u001b[49m\u001b[43mX_train\u001b[49m\u001b[43m,\u001b[49m\u001b[43m \u001b[49m\u001b[43my_train\u001b[49m\u001b[43m)\u001b[49m\n\u001b[32m     12\u001b[39m \u001b[38;5;66;03m# 5. Dự đoán\u001b[39;00m\n\u001b[32m     13\u001b[39m y_pred = xgb.predict(X_test)\n",
      "\u001b[36mFile \u001b[39m\u001b[32md:\\Software\\miniconda\\envs\\dantri_classification\\Lib\\site-packages\\xgboost\\core.py:729\u001b[39m, in \u001b[36mrequire_keyword_args.<locals>.throw_if.<locals>.inner_f\u001b[39m\u001b[34m(*args, **kwargs)\u001b[39m\n\u001b[32m    727\u001b[39m \u001b[38;5;28;01mfor\u001b[39;00m k, arg \u001b[38;5;129;01min\u001b[39;00m \u001b[38;5;28mzip\u001b[39m(sig.parameters, args):\n\u001b[32m    728\u001b[39m     kwargs[k] = arg\n\u001b[32m--> \u001b[39m\u001b[32m729\u001b[39m \u001b[38;5;28;01mreturn\u001b[39;00m \u001b[43mfunc\u001b[49m\u001b[43m(\u001b[49m\u001b[43m*\u001b[49m\u001b[43m*\u001b[49m\u001b[43mkwargs\u001b[49m\u001b[43m)\u001b[49m\n",
      "\u001b[36mFile \u001b[39m\u001b[32md:\\Software\\miniconda\\envs\\dantri_classification\\Lib\\site-packages\\xgboost\\sklearn.py:1683\u001b[39m, in \u001b[36mXGBClassifier.fit\u001b[39m\u001b[34m(self, X, y, sample_weight, base_margin, eval_set, verbose, xgb_model, sample_weight_eval_set, base_margin_eval_set, feature_weights)\u001b[39m\n\u001b[32m   1661\u001b[39m model, metric, params, feature_weights = \u001b[38;5;28mself\u001b[39m._configure_fit(\n\u001b[32m   1662\u001b[39m     xgb_model, params, feature_weights\n\u001b[32m   1663\u001b[39m )\n\u001b[32m   1664\u001b[39m train_dmatrix, evals = _wrap_evaluation_matrices(\n\u001b[32m   1665\u001b[39m     missing=\u001b[38;5;28mself\u001b[39m.missing,\n\u001b[32m   1666\u001b[39m     X=X,\n\u001b[32m   (...)\u001b[39m\u001b[32m   1680\u001b[39m     feature_types=\u001b[38;5;28mself\u001b[39m.feature_types,\n\u001b[32m   1681\u001b[39m )\n\u001b[32m-> \u001b[39m\u001b[32m1683\u001b[39m \u001b[38;5;28mself\u001b[39m._Booster = \u001b[43mtrain\u001b[49m\u001b[43m(\u001b[49m\n\u001b[32m   1684\u001b[39m \u001b[43m    \u001b[49m\u001b[43mparams\u001b[49m\u001b[43m,\u001b[49m\n\u001b[32m   1685\u001b[39m \u001b[43m    \u001b[49m\u001b[43mtrain_dmatrix\u001b[49m\u001b[43m,\u001b[49m\n\u001b[32m   1686\u001b[39m \u001b[43m    \u001b[49m\u001b[38;5;28;43mself\u001b[39;49m\u001b[43m.\u001b[49m\u001b[43mget_num_boosting_rounds\u001b[49m\u001b[43m(\u001b[49m\u001b[43m)\u001b[49m\u001b[43m,\u001b[49m\n\u001b[32m   1687\u001b[39m \u001b[43m    \u001b[49m\u001b[43mevals\u001b[49m\u001b[43m=\u001b[49m\u001b[43mevals\u001b[49m\u001b[43m,\u001b[49m\n\u001b[32m   1688\u001b[39m \u001b[43m    \u001b[49m\u001b[43mearly_stopping_rounds\u001b[49m\u001b[43m=\u001b[49m\u001b[38;5;28;43mself\u001b[39;49m\u001b[43m.\u001b[49m\u001b[43mearly_stopping_rounds\u001b[49m\u001b[43m,\u001b[49m\n\u001b[32m   1689\u001b[39m \u001b[43m    \u001b[49m\u001b[43mevals_result\u001b[49m\u001b[43m=\u001b[49m\u001b[43mevals_result\u001b[49m\u001b[43m,\u001b[49m\n\u001b[32m   1690\u001b[39m \u001b[43m    \u001b[49m\u001b[43mobj\u001b[49m\u001b[43m=\u001b[49m\u001b[43mobj\u001b[49m\u001b[43m,\u001b[49m\n\u001b[32m   1691\u001b[39m \u001b[43m    \u001b[49m\u001b[43mcustom_metric\u001b[49m\u001b[43m=\u001b[49m\u001b[43mmetric\u001b[49m\u001b[43m,\u001b[49m\n\u001b[32m   1692\u001b[39m \u001b[43m    \u001b[49m\u001b[43mverbose_eval\u001b[49m\u001b[43m=\u001b[49m\u001b[43mverbose\u001b[49m\u001b[43m,\u001b[49m\n\u001b[32m   1693\u001b[39m \u001b[43m    \u001b[49m\u001b[43mxgb_model\u001b[49m\u001b[43m=\u001b[49m\u001b[43mmodel\u001b[49m\u001b[43m,\u001b[49m\n\u001b[32m   1694\u001b[39m \u001b[43m    \u001b[49m\u001b[43mcallbacks\u001b[49m\u001b[43m=\u001b[49m\u001b[38;5;28;43mself\u001b[39;49m\u001b[43m.\u001b[49m\u001b[43mcallbacks\u001b[49m\u001b[43m,\u001b[49m\n\u001b[32m   1695\u001b[39m \u001b[43m\u001b[49m\u001b[43m)\u001b[49m\n\u001b[32m   1697\u001b[39m \u001b[38;5;28;01mif\u001b[39;00m \u001b[38;5;129;01mnot\u001b[39;00m \u001b[38;5;28mcallable\u001b[39m(\u001b[38;5;28mself\u001b[39m.objective):\n\u001b[32m   1698\u001b[39m     \u001b[38;5;28mself\u001b[39m.objective = params[\u001b[33m\"\u001b[39m\u001b[33mobjective\u001b[39m\u001b[33m\"\u001b[39m]\n",
      "\u001b[36mFile \u001b[39m\u001b[32md:\\Software\\miniconda\\envs\\dantri_classification\\Lib\\site-packages\\xgboost\\core.py:729\u001b[39m, in \u001b[36mrequire_keyword_args.<locals>.throw_if.<locals>.inner_f\u001b[39m\u001b[34m(*args, **kwargs)\u001b[39m\n\u001b[32m    727\u001b[39m \u001b[38;5;28;01mfor\u001b[39;00m k, arg \u001b[38;5;129;01min\u001b[39;00m \u001b[38;5;28mzip\u001b[39m(sig.parameters, args):\n\u001b[32m    728\u001b[39m     kwargs[k] = arg\n\u001b[32m--> \u001b[39m\u001b[32m729\u001b[39m \u001b[38;5;28;01mreturn\u001b[39;00m \u001b[43mfunc\u001b[49m\u001b[43m(\u001b[49m\u001b[43m*\u001b[49m\u001b[43m*\u001b[49m\u001b[43mkwargs\u001b[49m\u001b[43m)\u001b[49m\n",
      "\u001b[36mFile \u001b[39m\u001b[32md:\\Software\\miniconda\\envs\\dantri_classification\\Lib\\site-packages\\xgboost\\training.py:183\u001b[39m, in \u001b[36mtrain\u001b[39m\u001b[34m(params, dtrain, num_boost_round, evals, obj, maximize, early_stopping_rounds, evals_result, verbose_eval, xgb_model, callbacks, custom_metric)\u001b[39m\n\u001b[32m    181\u001b[39m \u001b[38;5;28;01mif\u001b[39;00m cb_container.before_iteration(bst, i, dtrain, evals):\n\u001b[32m    182\u001b[39m     \u001b[38;5;28;01mbreak\u001b[39;00m\n\u001b[32m--> \u001b[39m\u001b[32m183\u001b[39m \u001b[43mbst\u001b[49m\u001b[43m.\u001b[49m\u001b[43mupdate\u001b[49m\u001b[43m(\u001b[49m\u001b[43mdtrain\u001b[49m\u001b[43m,\u001b[49m\u001b[43m \u001b[49m\u001b[43miteration\u001b[49m\u001b[43m=\u001b[49m\u001b[43mi\u001b[49m\u001b[43m,\u001b[49m\u001b[43m \u001b[49m\u001b[43mfobj\u001b[49m\u001b[43m=\u001b[49m\u001b[43mobj\u001b[49m\u001b[43m)\u001b[49m\n\u001b[32m    184\u001b[39m \u001b[38;5;28;01mif\u001b[39;00m cb_container.after_iteration(bst, i, dtrain, evals):\n\u001b[32m    185\u001b[39m     \u001b[38;5;28;01mbreak\u001b[39;00m\n",
      "\u001b[36mFile \u001b[39m\u001b[32md:\\Software\\miniconda\\envs\\dantri_classification\\Lib\\site-packages\\xgboost\\core.py:2246\u001b[39m, in \u001b[36mBooster.update\u001b[39m\u001b[34m(self, dtrain, iteration, fobj)\u001b[39m\n\u001b[32m   2243\u001b[39m \u001b[38;5;28mself\u001b[39m._assign_dmatrix_features(dtrain)\n\u001b[32m   2245\u001b[39m \u001b[38;5;28;01mif\u001b[39;00m fobj \u001b[38;5;129;01mis\u001b[39;00m \u001b[38;5;28;01mNone\u001b[39;00m:\n\u001b[32m-> \u001b[39m\u001b[32m2246\u001b[39m     \u001b[43m_check_call\u001b[49m\u001b[43m(\u001b[49m\n\u001b[32m   2247\u001b[39m \u001b[43m        \u001b[49m\u001b[43m_LIB\u001b[49m\u001b[43m.\u001b[49m\u001b[43mXGBoosterUpdateOneIter\u001b[49m\u001b[43m(\u001b[49m\n\u001b[32m   2248\u001b[39m \u001b[43m            \u001b[49m\u001b[38;5;28;43mself\u001b[39;49m\u001b[43m.\u001b[49m\u001b[43mhandle\u001b[49m\u001b[43m,\u001b[49m\u001b[43m \u001b[49m\u001b[43mctypes\u001b[49m\u001b[43m.\u001b[49m\u001b[43mc_int\u001b[49m\u001b[43m(\u001b[49m\u001b[43miteration\u001b[49m\u001b[43m)\u001b[49m\u001b[43m,\u001b[49m\u001b[43m \u001b[49m\u001b[43mdtrain\u001b[49m\u001b[43m.\u001b[49m\u001b[43mhandle\u001b[49m\n\u001b[32m   2249\u001b[39m \u001b[43m        \u001b[49m\u001b[43m)\u001b[49m\n\u001b[32m   2250\u001b[39m \u001b[43m    \u001b[49m\u001b[43m)\u001b[49m\n\u001b[32m   2251\u001b[39m \u001b[38;5;28;01melse\u001b[39;00m:\n\u001b[32m   2252\u001b[39m     pred = \u001b[38;5;28mself\u001b[39m.predict(dtrain, output_margin=\u001b[38;5;28;01mTrue\u001b[39;00m, training=\u001b[38;5;28;01mTrue\u001b[39;00m)\n",
      "\u001b[36mFile \u001b[39m\u001b[32md:\\Software\\miniconda\\envs\\dantri_classification\\Lib\\site-packages\\xgboost\\core.py:310\u001b[39m, in \u001b[36m_check_call\u001b[39m\u001b[34m(ret)\u001b[39m\n\u001b[32m    299\u001b[39m \u001b[38;5;250m\u001b[39m\u001b[33;03m\"\"\"Check the return value of C API call\u001b[39;00m\n\u001b[32m    300\u001b[39m \n\u001b[32m    301\u001b[39m \u001b[33;03mThis function will raise exception when error occurs.\u001b[39;00m\n\u001b[32m   (...)\u001b[39m\u001b[32m    307\u001b[39m \u001b[33;03m    return value from API calls\u001b[39;00m\n\u001b[32m    308\u001b[39m \u001b[33;03m\"\"\"\u001b[39;00m\n\u001b[32m    309\u001b[39m \u001b[38;5;28;01mif\u001b[39;00m ret != \u001b[32m0\u001b[39m:\n\u001b[32m--> \u001b[39m\u001b[32m310\u001b[39m     \u001b[38;5;28;01mraise\u001b[39;00m XGBoostError(py_str(_LIB.XGBGetLastError()))\n",
      "\u001b[31mXGBoostError\u001b[39m: [16:33:19] C:\\actions-runner\\_work\\xgboost\\xgboost\\src\\common\\io.h:389: bad_malloc: Failed to allocate 4837805328 bytes."
     ]
    }
   ],
   "source": [
    "xgb = XGBClassifier(\n",
    "    n_estimators=300,\n",
    "    max_depth=8,\n",
    "    learning_rate=0.1,\n",
    "    objective='multi:softmax',\n",
    "    num_class=len(le.classes_),\n",
    "    tree_method=\"hist\",\n",
    "    random_state=42    \n",
    ")\n",
    "xgb.fit(X_train, y_train)\n",
    "\n",
    "# 5. Dự đoán\n",
    "y_pred = xgb.predict(X_test)\n",
    "\n",
    "# 6. Đánh giá\n",
    "print(\"Classification Report:\\n\", classification_report(y_test, y_pred, target_names=le.classes_))\n",
    "print(\"Confusion Matrix:\\n\", confusion_matrix(y_test, y_pred))"
   ]
  }
 ],
 "metadata": {
  "kernelspec": {
   "display_name": "dantri_classification",
   "language": "python",
   "name": "python3"
  },
  "language_info": {
   "codemirror_mode": {
    "name": "ipython",
    "version": 3
   },
   "file_extension": ".py",
   "mimetype": "text/x-python",
   "name": "python",
   "nbconvert_exporter": "python",
   "pygments_lexer": "ipython3",
   "version": "3.11.13"
  }
 },
 "nbformat": 4,
 "nbformat_minor": 5
}
