{
 "cells": [
  {
   "cell_type": "code",
   "execution_count": 94,
   "id": "8aaecc5b",
   "metadata": {},
   "outputs": [],
   "source": [
    "import pandas as pd\n",
    "from tensorflow.keras.preprocessing.text import Tokenizer\n",
    "from tensorflow.keras.preprocessing.sequence import pad_sequences\n",
    "from tensorflow.keras.utils import to_categorical\n",
    "from sklearn.preprocessing import LabelEncoder"
   ]
  },
  {
   "cell_type": "code",
   "execution_count": 95,
   "id": "fe8cf5c3",
   "metadata": {},
   "outputs": [
    {
     "data": {
      "text/html": [
       "<div>\n",
       "<style scoped>\n",
       "    .dataframe tbody tr th:only-of-type {\n",
       "        vertical-align: middle;\n",
       "    }\n",
       "\n",
       "    .dataframe tbody tr th {\n",
       "        vertical-align: top;\n",
       "    }\n",
       "\n",
       "    .dataframe thead th {\n",
       "        text-align: right;\n",
       "    }\n",
       "</style>\n",
       "<table border=\"1\" class=\"dataframe\">\n",
       "  <thead>\n",
       "    <tr style=\"text-align: right;\">\n",
       "      <th></th>\n",
       "      <th>topic</th>\n",
       "      <th>tokens</th>\n",
       "    </tr>\n",
       "  </thead>\n",
       "  <tbody>\n",
       "    <tr>\n",
       "      <th>0</th>\n",
       "      <td>Pháp luật</td>\n",
       "      <td>tên cướp tiệm vàng huế đại_úy công_an công_tác...</td>\n",
       "    </tr>\n",
       "    <tr>\n",
       "      <th>1</th>\n",
       "      <td>Sức khỏe - Đời sống</td>\n",
       "      <td>bỏ mạng 5 g nga tiến thẳng 4 g 6 g gần đây thứ...</td>\n",
       "    </tr>\n",
       "    <tr>\n",
       "      <th>2</th>\n",
       "      <td>Giáo dục</td>\n",
       "      <td>địa_phương đứng đầu tổng 3 môn văn_toán ngoại_...</td>\n",
       "    </tr>\n",
       "    <tr>\n",
       "      <th>3</th>\n",
       "      <td>Thế giới</td>\n",
       "      <td>người chết mưa_lũ nghìn một mỹ 28 thống_đốc ke...</td>\n",
       "    </tr>\n",
       "    <tr>\n",
       "      <th>4</th>\n",
       "      <td>Thời sự</td>\n",
       "      <td>hải_phòng hình_ảnh xe điên tai_nạn liên_hoàn p...</td>\n",
       "    </tr>\n",
       "  </tbody>\n",
       "</table>\n",
       "</div>"
      ],
      "text/plain": [
       "                 topic                                             tokens\n",
       "0            Pháp luật  tên cướp tiệm vàng huế đại_úy công_an công_tác...\n",
       "1  Sức khỏe - Đời sống  bỏ mạng 5 g nga tiến thẳng 4 g 6 g gần đây thứ...\n",
       "2             Giáo dục  địa_phương đứng đầu tổng 3 môn văn_toán ngoại_...\n",
       "3             Thế giới  người chết mưa_lũ nghìn một mỹ 28 thống_đốc ke...\n",
       "4              Thời sự  hải_phòng hình_ảnh xe điên tai_nạn liên_hoàn p..."
      ]
     },
     "execution_count": 95,
     "metadata": {},
     "output_type": "execute_result"
    }
   ],
   "source": [
    "df = pd.read_csv('Data_tokenized.csv')\n",
    "df.head()"
   ]
  },
  {
   "cell_type": "code",
   "execution_count": 96,
   "id": "6e9cd5a6",
   "metadata": {},
   "outputs": [
    {
     "name": "stdout",
     "output_type": "stream",
     "text": [
      "<class 'pandas.core.frame.DataFrame'>\n",
      "RangeIndex: 161216 entries, 0 to 161215\n",
      "Data columns (total 2 columns):\n",
      " #   Column  Non-Null Count   Dtype \n",
      "---  ------  --------------   ----- \n",
      " 0   topic   161216 non-null  object\n",
      " 1   tokens  161216 non-null  object\n",
      "dtypes: object(2)\n",
      "memory usage: 2.5+ MB\n"
     ]
    }
   ],
   "source": [
    "df.info()"
   ]
  },
  {
   "cell_type": "code",
   "execution_count": 97,
   "id": "211eca23",
   "metadata": {},
   "outputs": [],
   "source": [
    "tokenizer = Tokenizer(num_words=30000, oov_token='<OOV>')\n",
    "tokenizer.fit_on_texts(df['tokens'])\n"
   ]
  },
  {
   "cell_type": "code",
   "execution_count": 98,
   "id": "7ac8bd47",
   "metadata": {},
   "outputs": [],
   "source": [
    "sequence = tokenizer.texts_to_sequences(df['tokens'])"
   ]
  },
  {
   "cell_type": "code",
   "execution_count": 99,
   "id": "0ade374b",
   "metadata": {},
   "outputs": [
    {
     "name": "stdout",
     "output_type": "stream",
     "text": [
      "Chuỗi số (sequences) - 5 câu đầu tiên:\n",
      "Câu 1: [1711, 1569, 1829, 381, 1201, 67, 2506, 2, 43, 2, 68, 1376, 1302, 386, 953, 35, 2, 43, 88, 745, 616, 1201, 20, 119, 6, 36, 1026, 1017, 1569, 1829, 381, 1041, 225, 650, 533, 82, 451, 974, 132, 143, 1201, 88, 745, 616, 1201, 20, 1274, 1319, 62, 680, 369, 1450, 953, 35, 30, 240, 96, 38, 1017, 5844, 156, 577, 2457, 1829, 381, 341, 306, 230, 236, 1801, 1041, 225, 650, 1026, 1017, 616, 78, 41, 1200, 2070, 42, 1829, 1569, 381, 157, 28, 30, 240, 381, 1569, 2973, 2570, 626, 40, 104, 148, 45, 12, 32, 104, 148, 86, 1036, 736, 284, 420, 2, 43, 88, 745, 616, 1201, 205, 669, 285, 41, 132, 66, 53, 57, 2, 43, 88, 2, 43, 143, 1201, 719, 114, 5, 18, 92, 177, 4, 741, 102, 64, 36, 4014, 811, 37, 40, 5, 18, 19, 1055, 766, 107, 1041, 225, 650, 37, 45, 12, 32, 162, 45, 477, 5, 18, 422, 419, 81, 70, 1171, 714, 176, 97, 381, 2105, 82, 1105, 2576, 138, 13473, 6673, 1417, 1041, 503, 104, 148, 25, 93, 143, 1201, 225, 37, 327, 77, 43, 84, 37, 66, 2, 43, 231, 30, 240, 850, 789, 104, 148, 2, 34, 1350, 2, 433, 362, 45, 12, 32, 1002, 94, 30, 240, 374, 5, 711, 9, 183, 67, 1280, 154, 80, 84, 151, 70, 138, 179, 44, 2, 43, 88, 745, 616, 1201, 4, 199, 2, 43, 285, 41, 41, 739, 1180, 242, 30, 240, 30, 240, 162, 45, 67, 1280, 1523, 486, 433, 361, 284, 420, 2, 43, 88, 867, 28, 67, 1280, 1523, 486, 433, 1111, 9, 34, 1180, 242, 30, 240, 4, 482, 113, 1043, 316, 257, 63, 1966, 224, 1569, 1215, 80, 16, 1419, 303, 190, 1346, 67, 2506, 2, 68, 1376, 1302, 73, 2019, 422, 117, 73, 249, 59, 117, 613, 1116, 395, 1017, 86, 105, 1746, 5, 18, 85, 1829, 381, 360, 1040, 2, 43, 625, 308, 1801, 1540, 1100, 1254, 3464, 5896, 1119, 1294, 225, 650, 1041, 412, 262, 2941, 3734, 143, 1201, 533, 1182, 353, 776, 613, 82, 451, 974, 132, 1294, 105, 615, 255, 31, 49, 255, 227, 1201, 63, 3076, 23, 1034, 2432, 140, 20, 131, 183, 918, 572, 2, 147, 319, 373, 134, 17, 7, 564, 431, 169, 205, 140, 20, 131, 183, 122, 21, 1228, 1751, 1625, 1743, 748, 203, 1143, 1732, 1506, 1720, 1752, 127, 528, 1753, 566, 47, 587, 1621, 1718, 104, 448, 59, 130, 135, 24, 588, 45, 100, 7, 357, 1304, 101, 72, 1349, 418, 196, 72, 402, 375, 59, 1324, 816, 1748, 1719, 1672, 1468, 918, 1754, 572, 781, 58, 285, 355, 5, 96, 38, 538, 918, 572, 401, 283, 339, 1291, 835, 212, 226, 77, 710, 1749]\n",
      "Câu 2: [2008, 292, 76, 1285, 146, 249, 797, 98, 1285, 47, 1285, 1352, 161, 888, 151, 71, 22, 92, 426, 349, 641, 221, 20, 221, 20, 67, 146, 7627, 29812, 218, 595, 1537, 229, 363, 26, 2, 194, 1, 660, 22, 285, 71, 426, 349, 146, 229, 363, 26, 181, 380, 294, 540, 393, 164, 4117, 512, 457, 51, 86, 169, 78, 714, 477, 9, 108, 47, 47, 1285, 51, 184, 169, 47, 1285, 3, 181, 1537, 375, 416, 116, 53, 146, 11, 93, 22, 92, 2, 194, 76, 1285, 3374, 414, 13, 66, 2, 194, 47, 1285, 966, 41, 739, 1571, 1295, 793, 2, 194, 221, 20, 5, 67, 173, 1778, 2, 194, 108, 108, 417, 686, 22, 92, 108, 392, 375, 392, 47, 1285, 5, 523, 314, 439, 209, 119, 6, 1119, 116, 120, 329, 426, 349, 78, 11, 258, 10, 22, 92, 50, 171, 1455, 503, 28, 116, 53, 146, 2, 187, 20, 233, 286, 407, 3, 867, 146, 3, 22, 92, 292, 1064, 47, 1285, 16, 12, 3, 2782, 254, 16, 12, 719, 180, 743, 429, 11, 123, 292, 146, 120, 706, 798, 488, 292, 477, 9, 30, 292, 98, 1285, 1555, 215, 292, 199, 2460, 292, 76, 1285, 292, 47, 1285, 165, 455]\n",
      "Câu 3: [127, 79, 516, 6, 122, 48, 388, 80, 452, 337, 877, 46, 56, 64, 646, 103, 25, 73, 388, 452, 337, 877, 1218, 877, 80, 324, 510, 122, 48, 388, 26, 103, 582, 657, 324, 582, 2308, 467, 368, 932, 127, 79, 122, 48, 388, 630, 1940, 597, 48, 127, 79, 630, 98, 2517, 266, 73, 474, 2841, 467, 243, 70, 474, 2256, 1048, 524, 474, 2979, 368, 76, 127, 79, 730, 1648, 1218, 24, 1476, 467, 1083, 1971, 24, 1374, 2755, 2808, 24, 1948, 590, 261, 24, 2220, 43, 549, 24, 2417, 73, 385, 122, 48, 388, 877, 80, 452, 337, 877, 348, 1860, 467, 6, 340, 41, 243, 70, 348, 1704, 467, 7, 10, 348, 682, 1048, 524, 348, 1843, 391, 73, 244, 2714, 143, 356, 244, 1235, 101, 7, 244, 2049, 353, 391, 244, 1704, 101, 72, 244, 601, 60, 549, 244, 2084, 84, 16, 98, 127, 79, 122, 48, 388, 348, 630, 47, 1001, 702, 127, 79, 582, 348, 1520, 1520, 1374, 127, 79, 411, 582, 2201, 2568, 24, 127, 79, 411, 24, 2270, 175, 127, 79, 122, 48, 388, 353, 3387, 619, 2593, 467, 131, 506, 619, 474, 254, 549, 619, 474, 2211, 433, 411, 2627, 1116, 914, 411, 1135, 1556, 471, 411, 1615, 590, 261, 411, 657, 433, 1003, 411, 369, 352, 1012, 411, 493, 101, 549, 657, 2480, 388, 877, 80, 388, 56, 432, 47, 2022, 324, 47, 1948, 103, 164, 463, 80, 1262, 357, 203, 125, 873, 852, 324, 624, 317, 103, 619, 2594, 30, 1646, 611, 388, 877, 80, 127, 79, 523, 314, 1241, 103, 955, 88, 8, 611, 219, 9, 432, 87, 28, 127, 79, 249, 23, 502, 1048, 524, 252, 1241, 651, 611, 24, 1062, 651, 611, 317, 855, 651, 611, 98, 620, 651, 611, 23, 324, 651, 611, 23, 103, 651, 611, 23, 243, 70, 35, 24, 23, 317, 24, 24, 391, 73, 48, 48, 203, 493, 493, 98, 194, 43, 244, 35, 48, 348, 98, 47, 263, 128, 47, 23, 411, 203, 619, 203, 243, 385, 747, 348, 493, 953, 953, 619, 559, 362, 127, 79, 388, 877, 80, 7628, 1888, 502, 454, 2015, 624, 1704, 1419, 1378, 203, 601, 4, 1696, 619, 769, 1476, 828, 35, 348, 143, 356, 369, 1001, 653, 2022, 348, 1452, 388, 877, 80, 25, 73, 26, 2085, 543, 369, 103, 35, 702, 25, 73, 56, 47, 1948, 1469, 474, 35, 467, 496, 21, 176, 97, 1646, 611, 85, 94, 127, 79, 247, 168, 593, 846, 264, 353, 3387, 25, 73, 26, 2085, 651, 1981, 25, 73, 56, 651, 1001, 143, 356, 25, 73, 26, 2085, 651, 582, 35, 953, 467, 25, 73, 56, 651, 1452, 47, 1452, 467, 388, 452, 388, 25, 73, 1218, 47, 2417, 324, 47, 2022, 103, 164, 463, 452, 1262, 98, 2469, 324, 601, 317, 103, 702, 2044, 1514, 388, 452, 88, 611, 575, 10, 523, 314, 1241, 103, 215, 127, 79, 7, 10, 73, 385, 143, 356, 101, 7, 391, 73, 127, 79, 388, 452, 971, 175, 167, 166, 7, 10, 47, 1058, 516, 6, 340, 311, 127, 79, 249, 502, 1048, 524, 348, 662, 682, 244, 411, 35, 907, 2189, 369, 619, 317, 393, 582, 411, 101, 1073, 953, 393, 1520, 1001, 597, 348, 839, 1503, 769, 1704, 1245, 653, 1855, 1419, 311, 88, 611, 388, 452, 161, 73, 1335, 597, 682, 702, 662, 747, 1374, 254, 549, 2049, 2049, 2049, 1419, 2220, 1948, 1116, 914, 2022, 1245, 1855, 1705, 2039, 1615, 640, 2088, 1585, 438, 35, 47, 48, 48, 175, 657, 322, 391, 411, 244, 624, 582, 702, 601, 388, 452, 25, 73, 26, 2085, 84, 16, 35, 1948, 25, 73, 56, 47, 2022, 1469, 24, 2827, 467, 335, 30, 1646, 56, 388, 452, 26, 2085, 69, 6016, 127, 79, 502, 467, 26, 2085, 243, 70, 203, 624, 467, 651, 24, 56, 47, 2308, 467, 651, 203, 1469, 24, 369, 467, 4, 1696, 26, 2085, 203, 1843, 651, 23, 56, 47, 1964, 651, 879, 1469, 24, 1934, 467, 243, 385, 26, 2085, 35, 2260, 56, 47, 2410, 1469, 24, 828, 467, 101, 72, 26, 2085, 35, 3101, 56, 47, 2603, 1469, 24, 665, 467, 87, 28, 7, 10, 26, 2085, 651, 317, 56, 651, 24, 375, 600, 10, 595, 7, 10, 88, 29, 5, 394, 464, 26, 1244, 56, 1244, 337, 877, 388, 25, 73, 1218, 76, 2657, 324, 76, 411, 103, 164, 463, 337, 877, 1262, 369, 24, 597, 474, 324, 493, 317, 103, 388, 337, 877, 88, 8, 193, 83, 33, 117, 32, 255, 227, 2, 64, 22, 92, 215, 127, 79, 143, 356, 73, 385, 640, 2088, 1585, 438, 101, 72, 243, 70, 555, 810, 1048, 524, 7, 10, 391, 73, 127, 79, 971, 6, 337, 877, 167, 166, 143, 356, 47, 516, 6, 311, 127, 79, 611, 337, 877, 249, 523, 314, 1241, 103, 502, 1048, 524, 493, 657, 657, 582, 175, 35, 353, 391, 702, 682, 682, 879, 665, 175, 101, 1073, 1705, 2049, 1964, 1964, 1476, 393, 454, 391, 953, 1821, 1001, 1378, 662, 411, 465, 1260, 662, 624, 748, 1821, 879, 601, 559, 362, 28, 88, 611, 337, 877, 502, 1116, 914, 1855, 1705, 769, 1452, 2270, 2201, 254, 549, 2039, 1615, 1934, 1923, 2201, 932, 391, 390, 657, 203, 624, 624, 769, 1855, 2755, 2808, 1452, 1378, 953, 828, 1704, 1245, 1083, 1971, 393, 244, 411, 369, 748, 1520, 30, 1646, 56, 26, 2085, 955, 26, 2085, 388, 337, 877, 56, 1340, 25, 73, 26, 2085, 35, 747, 56, 76, 411, 1469, 23, 369, 467, 243, 70, 25, 73, 26, 2085, 203, 2827, 467, 56, 651, 76, 76, 9486, 1469, 23, 5305, 467, 1514, 88, 8, 193, 48, 388, 877, 80, 452, 337, 877, 754, 8, 173, 305, 87, 175, 127, 79, 971, 6, 48, 388, 103, 47, 127, 79, 6, 48, 388, 73, 385, 243, 70, 7, 10, 1048, 524, 391, 73, 353, 391, 23, 127, 79, 6, 23, 388, 101, 7, 143, 356, 203, 127, 79, 6, 24, 388, 101, 1073, 194, 43, 263, 128, 230, 73, 60, 549, 640, 2088, 1585, 438, 101, 72, 555, 810]\n",
      "Câu 4: [204, 809, 459, 1628, 986, 311, 130, 828, 124, 420, 6715, 4179, 15414, 366, 953, 35, 864, 459, 1628, 6932, 1750, 346, 186, 201, 724, 66, 271, 29, 171, 688, 1220, 19, 986, 37, 462, 1413, 432, 6715, 1628, 1842, 459, 124, 420, 15414, 3143, 1485, 311, 2046, 923, 227, 96, 1099, 66, 209, 313, 724, 66, 544, 209, 197, 403, 13, 116, 53, 6715, 138, 58, 809, 459, 1628, 3, 41, 129, 852, 65, 44, 15, 286, 3, 1358, 125, 2, 209, 313, 607, 11, 15, 286, 16, 12, 51, 58, 864, 459, 1127, 556, 23, 203, 138, 58, 1628, 2857, 22, 24, 203, 538, 7, 538, 225, 1099, 6715, 124, 420, 15414, 116, 53, 104, 148, 3, 2157, 544, 56, 3, 346, 66, 209, 313, 477, 104, 148, 2586, 239, 864, 1628, 2857, 1700, 1095, 85, 2, 6715, 423, 35, 583, 864, 1800, 3356, 1235, 891, 292, 326, 369, 324, 122, 124, 130, 2172, 1407, 485, 187, 65, 333, 1700, 1095, 6715, 366, 879, 35, 431, 294, 540, 74, 197, 78, 1099, 1099, 116, 228, 12, 10, 232, 459, 786, 1058, 219, 168, 257, 254, 12, 423, 576, 318, 200, 14, 257, 254, 16, 12, 354, 130, 281, 57, 384, 232, 459, 104, 148, 225, 1099, 6715, 348, 769, 6232, 486, 737, 63, 1710]\n",
      "Câu 5: [243, 70, 44, 118, 55, 2756, 647, 403, 78, 165, 193, 40, 1724, 907, 36, 647, 403, 113, 20, 78, 165, 193, 40, 1724, 907, 243, 70, 384, 107, 63, 37, 701, 757, 104, 148, 193, 40, 224, 348, 1450, 355, 82, 1579, 1724, 121, 12597, 260, 1267, 535, 2195, 55, 644, 676, 139, 1239, 2720, 411, 622, 4009, 1618, 76, 802, 491, 883, 156, 577, 290, 55, 202, 339, 20, 82, 1091, 1876, 156, 577, 19, 687, 55, 202, 55, 1292, 3464, 1455, 55, 202, 3229, 2658, 55, 644, 676, 912, 82, 1148, 138, 100, 371, 1198, 1248, 908, 2388, 1115, 1003, 2846, 55, 644, 676, 2756, 738, 290, 2570, 626, 1876, 24, 37, 831, 37, 701, 757, 55, 725, 55, 393, 333, 230, 394, 464, 374, 5, 711, 9, 87, 55, 725, 55, 1211, 257, 4231, 280, 406, 403, 13, 36, 647, 403, 5, 40, 209, 61, 229, 17, 4551, 28, 66, 2, 43, 535, 2195, 3588, 743, 114, 5, 18, 77, 246, 5, 18, 105, 1067, 155, 4, 15, 473, 21, 37, 403, 13, 40, 209, 36, 11, 53, 57, 41, 129, 1190]\n"
     ]
    }
   ],
   "source": [
    "print(\"Chuỗi số (sequences) - 5 câu đầu tiên:\")\n",
    "for i, seq in enumerate(sequence[:5]):\n",
    "    print(f\"Câu {i+1}: {seq}\")"
   ]
  },
  {
   "cell_type": "code",
   "execution_count": 100,
   "id": "c3e8b9ad",
   "metadata": {},
   "outputs": [
    {
     "name": "stdout",
     "output_type": "stream",
     "text": [
      "Tỷ lệ OOV: 0.37%\n"
     ]
    }
   ],
   "source": [
    "oov_count = sum(seq.count(1) for seq in sequence)  # Index 1 là <OOV>\n",
    "total_words = sum(len(seq) for seq in sequence)\n",
    "print(f\"Tỷ lệ OOV: {oov_count / total_words * 100:.2f}%\")"
   ]
  },
  {
   "cell_type": "code",
   "execution_count": 101,
   "id": "ef4e798d",
   "metadata": {},
   "outputs": [
    {
     "name": "stdout",
     "output_type": "stream",
     "text": [
      "count    161216.00000\n",
      "mean        273.74456\n",
      "std         189.84190\n",
      "min           1.00000\n",
      "25%         162.00000\n",
      "50%         236.00000\n",
      "75%         349.00000\n",
      "max       34570.00000\n",
      "Name: token_length, dtype: float64\n"
     ]
    }
   ],
   "source": [
    "df[\"token_length\"] = df['tokens'].apply(lambda x: len(x.split()))\n",
    "print(df[\"token_length\"].describe())"
   ]
  },
  {
   "cell_type": "code",
   "execution_count": 102,
   "id": "26ef059d",
   "metadata": {},
   "outputs": [
    {
     "name": "stdout",
     "output_type": "stream",
     "text": [
      "maxlen được chọn: 572\n"
     ]
    }
   ],
   "source": [
    "maxlen = int(df['token_length'].quantile(0.95))  # Lấy bách phân vị 95\n",
    "print(f\"maxlen được chọn: {maxlen}\")"
   ]
  },
  {
   "cell_type": "code",
   "execution_count": 103,
   "id": "c40bbe57",
   "metadata": {},
   "outputs": [],
   "source": [
    "X = pad_sequences(sequence, maxlen=maxlen, padding='post', truncating='post')\n",
    "y = df[\"topic\"]"
   ]
  },
  {
   "cell_type": "code",
   "execution_count": 104,
   "id": "f1661741",
   "metadata": {},
   "outputs": [
    {
     "data": {
      "text/plain": [
       "topic\n",
       "Xã hội                    32500\n",
       "Sức khỏe - Đời sống       23241\n",
       "Thế giới                  21639\n",
       "Văn hóa - Giải trí        21224\n",
       "Thể thao                  19263\n",
       "Kinh doanh - Tài chính    17025\n",
       "Pháp luật                 10650\n",
       "Giáo dục                   7631\n",
       "Công nghệ                  4248\n",
       "Xe                         3795\n",
       "Name: count, dtype: int64"
      ]
     },
     "execution_count": 104,
     "metadata": {},
     "output_type": "execute_result"
    }
   ],
   "source": [
    "merge1 = {\n",
    "    \"Quốc phòng\": \"Chính trị\",\n",
    "    \"Bất động sản\": \"Kinh doanh - Tài chính\",\n",
    "    \"Bạn đọc\": \"Xã hội\",\n",
    "    \"Kinh tế\": \"Kinh doanh - Tài chính\",\n",
    "    \"Thời sự\": \"Xã hội\"\n",
    "}\n",
    "\n",
    "df[\"topic\"] = df[\"topic\"].replace(merge1)\n",
    "\n",
    "# Sau đó gộp “Chính trị” vào “Thế giới”\n",
    "df[\"topic\"] = df[\"topic\"].replace({\"Chính trị\": \"Thế giới\"})\n",
    "\n",
    "df[\"topic\"].value_counts()\n"
   ]
  },
  {
   "cell_type": "code",
   "execution_count": 105,
   "id": "3c18d5d3",
   "metadata": {},
   "outputs": [
    {
     "ename": "ValueError",
     "evalue": "With under-sampling methods, the number of samples in a class should be less or equal to the original number of samples. Originally, there is 15580 samples and 20000 samples are asked.",
     "output_type": "error",
     "traceback": [
      "\u001b[31m---------------------------------------------------------------------------\u001b[39m",
      "\u001b[31mValueError\u001b[39m                                Traceback (most recent call last)",
      "\u001b[36mCell\u001b[39m\u001b[36m \u001b[39m\u001b[32mIn[105]\u001b[39m\u001b[32m, line 5\u001b[39m\n\u001b[32m      2\u001b[39m \u001b[38;5;28;01mfrom\u001b[39;00m\u001b[38;5;250m \u001b[39m\u001b[34;01mimblearn\u001b[39;00m\u001b[34;01m.\u001b[39;00m\u001b[34;01munder_sampling\u001b[39;00m\u001b[38;5;250m \u001b[39m\u001b[38;5;28;01mimport\u001b[39;00m RandomUnderSampler\n\u001b[32m      4\u001b[39m RUS = RandomUnderSampler(sampling_strategy={\u001b[33m'\u001b[39m\u001b[33mXã hội\u001b[39m\u001b[33m'\u001b[39m: \u001b[32m20000\u001b[39m, \u001b[33m'\u001b[39m\u001b[33mSức khỏe - Đời sống\u001b[39m\u001b[33m'\u001b[39m: \u001b[32m20000\u001b[39m, \u001b[33m'\u001b[39m\u001b[33mThế giới\u001b[39m\u001b[33m'\u001b[39m: \u001b[32m20000\u001b[39m, \u001b[33m'\u001b[39m\u001b[33mVăn hóa - Giải trí\u001b[39m\u001b[33m'\u001b[39m: \u001b[32m20000\u001b[39m}, random_state=\u001b[32m42\u001b[39m)\n\u001b[32m----> \u001b[39m\u001b[32m5\u001b[39m X_RUS, y_RUS = \u001b[43mRUS\u001b[49m\u001b[43m.\u001b[49m\u001b[43mfit_resample\u001b[49m\u001b[43m(\u001b[49m\u001b[43mX\u001b[49m\u001b[43m,\u001b[49m\u001b[43m \u001b[49m\u001b[43my\u001b[49m\u001b[43m)\u001b[49m\n\u001b[32m      6\u001b[39m Smote = SMOTE(sampling_strategy={\u001b[33m'\u001b[39m\u001b[33mXe\u001b[39m\u001b[33m'\u001b[39m: \u001b[32m10000\u001b[39m, \u001b[33m'\u001b[39m\u001b[33mCông nghệ\u001b[39m\u001b[33m'\u001b[39m:\u001b[32m10000\u001b[39m, \u001b[33m'\u001b[39m\u001b[33mGiáo dục\u001b[39m\u001b[33m'\u001b[39m:\u001b[32m10000\u001b[39m}, random_state=\u001b[32m42\u001b[39m)\n\u001b[32m      7\u001b[39m X_smote, y_smote = Smote.fit_resample(X_RUS, y_RUS)\n",
      "\u001b[36mFile \u001b[39m\u001b[32mf:\\Miniconda\\envs\\dantri_classification\\Lib\\site-packages\\imblearn\\base.py:202\u001b[39m, in \u001b[36mBaseSampler.fit_resample\u001b[39m\u001b[34m(self, X, y, **params)\u001b[39m\n\u001b[32m    181\u001b[39m \u001b[38;5;28;01mdef\u001b[39;00m\u001b[38;5;250m \u001b[39m\u001b[34mfit_resample\u001b[39m(\u001b[38;5;28mself\u001b[39m, X, y, **params):\n\u001b[32m    182\u001b[39m \u001b[38;5;250m    \u001b[39m\u001b[33;03m\"\"\"Resample the dataset.\u001b[39;00m\n\u001b[32m    183\u001b[39m \n\u001b[32m    184\u001b[39m \u001b[33;03m    Parameters\u001b[39;00m\n\u001b[32m   (...)\u001b[39m\u001b[32m    200\u001b[39m \u001b[33;03m        The corresponding label of `X_resampled`.\u001b[39;00m\n\u001b[32m    201\u001b[39m \u001b[33;03m    \"\"\"\u001b[39;00m\n\u001b[32m--> \u001b[39m\u001b[32m202\u001b[39m     \u001b[38;5;28;01mreturn\u001b[39;00m \u001b[38;5;28;43msuper\u001b[39;49m\u001b[43m(\u001b[49m\u001b[43m)\u001b[49m\u001b[43m.\u001b[49m\u001b[43mfit_resample\u001b[49m\u001b[43m(\u001b[49m\u001b[43mX\u001b[49m\u001b[43m,\u001b[49m\u001b[43m \u001b[49m\u001b[43my\u001b[49m\u001b[43m,\u001b[49m\u001b[43m \u001b[49m\u001b[43m*\u001b[49m\u001b[43m*\u001b[49m\u001b[43mparams\u001b[49m\u001b[43m)\u001b[49m\n",
      "\u001b[36mFile \u001b[39m\u001b[32mf:\\Miniconda\\envs\\dantri_classification\\Lib\\site-packages\\sklearn\\base.py:1365\u001b[39m, in \u001b[36m_fit_context.<locals>.decorator.<locals>.wrapper\u001b[39m\u001b[34m(estimator, *args, **kwargs)\u001b[39m\n\u001b[32m   1358\u001b[39m     estimator._validate_params()\n\u001b[32m   1360\u001b[39m \u001b[38;5;28;01mwith\u001b[39;00m config_context(\n\u001b[32m   1361\u001b[39m     skip_parameter_validation=(\n\u001b[32m   1362\u001b[39m         prefer_skip_nested_validation \u001b[38;5;129;01mor\u001b[39;00m global_skip_validation\n\u001b[32m   1363\u001b[39m     )\n\u001b[32m   1364\u001b[39m ):\n\u001b[32m-> \u001b[39m\u001b[32m1365\u001b[39m     \u001b[38;5;28;01mreturn\u001b[39;00m \u001b[43mfit_method\u001b[49m\u001b[43m(\u001b[49m\u001b[43mestimator\u001b[49m\u001b[43m,\u001b[49m\u001b[43m \u001b[49m\u001b[43m*\u001b[49m\u001b[43margs\u001b[49m\u001b[43m,\u001b[49m\u001b[43m \u001b[49m\u001b[43m*\u001b[49m\u001b[43m*\u001b[49m\u001b[43mkwargs\u001b[49m\u001b[43m)\u001b[49m\n",
      "\u001b[36mFile \u001b[39m\u001b[32mf:\\Miniconda\\envs\\dantri_classification\\Lib\\site-packages\\imblearn\\base.py:101\u001b[39m, in \u001b[36mSamplerMixin.fit_resample\u001b[39m\u001b[34m(self, X, y, **params)\u001b[39m\n\u001b[32m     98\u001b[39m arrays_transformer = ArraysTransformer(X, y)\n\u001b[32m     99\u001b[39m X, y, binarize_y = \u001b[38;5;28mself\u001b[39m._check_X_y(X, y)\n\u001b[32m--> \u001b[39m\u001b[32m101\u001b[39m \u001b[38;5;28mself\u001b[39m.sampling_strategy_ = \u001b[43mcheck_sampling_strategy\u001b[49m\u001b[43m(\u001b[49m\n\u001b[32m    102\u001b[39m \u001b[43m    \u001b[49m\u001b[38;5;28;43mself\u001b[39;49m\u001b[43m.\u001b[49m\u001b[43msampling_strategy\u001b[49m\u001b[43m,\u001b[49m\u001b[43m \u001b[49m\u001b[43my\u001b[49m\u001b[43m,\u001b[49m\u001b[43m \u001b[49m\u001b[38;5;28;43mself\u001b[39;49m\u001b[43m.\u001b[49m\u001b[43m_sampling_type\u001b[49m\n\u001b[32m    103\u001b[39m \u001b[43m\u001b[49m\u001b[43m)\u001b[49m\n\u001b[32m    105\u001b[39m output = \u001b[38;5;28mself\u001b[39m._fit_resample(X, y, **params)\n\u001b[32m    107\u001b[39m y_ = (\n\u001b[32m    108\u001b[39m     label_binarize(output[\u001b[32m1\u001b[39m], classes=np.unique(y)) \u001b[38;5;28;01mif\u001b[39;00m binarize_y \u001b[38;5;28;01melse\u001b[39;00m output[\u001b[32m1\u001b[39m]\n\u001b[32m    109\u001b[39m )\n",
      "\u001b[36mFile \u001b[39m\u001b[32mf:\\Miniconda\\envs\\dantri_classification\\Lib\\site-packages\\imblearn\\utils\\_validation.py:555\u001b[39m, in \u001b[36mcheck_sampling_strategy\u001b[39m\u001b[34m(sampling_strategy, y, sampling_type, **kwargs)\u001b[39m\n\u001b[32m    550\u001b[39m     \u001b[38;5;28;01mreturn\u001b[39;00m OrderedDict(\n\u001b[32m    551\u001b[39m         \u001b[38;5;28msorted\u001b[39m(SAMPLING_TARGET_KIND[sampling_strategy](y, sampling_type).items())\n\u001b[32m    552\u001b[39m     )\n\u001b[32m    553\u001b[39m \u001b[38;5;28;01melif\u001b[39;00m \u001b[38;5;28misinstance\u001b[39m(sampling_strategy, \u001b[38;5;28mdict\u001b[39m):\n\u001b[32m    554\u001b[39m     \u001b[38;5;28;01mreturn\u001b[39;00m OrderedDict(\n\u001b[32m--> \u001b[39m\u001b[32m555\u001b[39m         \u001b[38;5;28msorted\u001b[39m(\u001b[43m_sampling_strategy_dict\u001b[49m\u001b[43m(\u001b[49m\u001b[43msampling_strategy\u001b[49m\u001b[43m,\u001b[49m\u001b[43m \u001b[49m\u001b[43my\u001b[49m\u001b[43m,\u001b[49m\u001b[43m \u001b[49m\u001b[43msampling_type\u001b[49m\u001b[43m)\u001b[49m.items())\n\u001b[32m    556\u001b[39m     )\n\u001b[32m    557\u001b[39m \u001b[38;5;28;01melif\u001b[39;00m \u001b[38;5;28misinstance\u001b[39m(sampling_strategy, \u001b[38;5;28mlist\u001b[39m):\n\u001b[32m    558\u001b[39m     \u001b[38;5;28;01mreturn\u001b[39;00m OrderedDict(\n\u001b[32m    559\u001b[39m         \u001b[38;5;28msorted\u001b[39m(_sampling_strategy_list(sampling_strategy, y, sampling_type).items())\n\u001b[32m    560\u001b[39m     )\n",
      "\u001b[36mFile \u001b[39m\u001b[32mf:\\Miniconda\\envs\\dantri_classification\\Lib\\site-packages\\imblearn\\utils\\_validation.py:344\u001b[39m, in \u001b[36m_sampling_strategy_dict\u001b[39m\u001b[34m(sampling_strategy, y, sampling_type)\u001b[39m\n\u001b[32m    342\u001b[39m     \u001b[38;5;28;01mfor\u001b[39;00m class_sample, n_samples \u001b[38;5;129;01min\u001b[39;00m sampling_strategy.items():\n\u001b[32m    343\u001b[39m         \u001b[38;5;28;01mif\u001b[39;00m n_samples > target_stats[class_sample]:\n\u001b[32m--> \u001b[39m\u001b[32m344\u001b[39m             \u001b[38;5;28;01mraise\u001b[39;00m \u001b[38;5;167;01mValueError\u001b[39;00m(\n\u001b[32m    345\u001b[39m                 \u001b[33m\"\u001b[39m\u001b[33mWith under-sampling methods, the number of\u001b[39m\u001b[33m\"\u001b[39m\n\u001b[32m    346\u001b[39m                 \u001b[33m\"\u001b[39m\u001b[33m samples in a class should be less or equal\u001b[39m\u001b[33m\"\u001b[39m\n\u001b[32m    347\u001b[39m                 \u001b[33m\"\u001b[39m\u001b[33m to the original number of samples.\u001b[39m\u001b[33m\"\u001b[39m\n\u001b[32m    348\u001b[39m                 \u001b[33mf\u001b[39m\u001b[33m\"\u001b[39m\u001b[33m Originally, there is \u001b[39m\u001b[38;5;132;01m{\u001b[39;00mtarget_stats[class_sample]\u001b[38;5;132;01m}\u001b[39;00m\u001b[33m \u001b[39m\u001b[33m\"\u001b[39m\n\u001b[32m    349\u001b[39m                 \u001b[33mf\u001b[39m\u001b[33m\"\u001b[39m\u001b[33msamples and \u001b[39m\u001b[38;5;132;01m{\u001b[39;00mn_samples\u001b[38;5;132;01m}\u001b[39;00m\u001b[33m samples are asked.\u001b[39m\u001b[33m\"\u001b[39m\n\u001b[32m    350\u001b[39m             )\n\u001b[32m    351\u001b[39m         sampling_strategy_[class_sample] = n_samples\n\u001b[32m    352\u001b[39m \u001b[38;5;28;01melif\u001b[39;00m sampling_type == \u001b[33m\"\u001b[39m\u001b[33mclean-sampling\u001b[39m\u001b[33m\"\u001b[39m:\n",
      "\u001b[31mValueError\u001b[39m: With under-sampling methods, the number of samples in a class should be less or equal to the original number of samples. Originally, there is 15580 samples and 20000 samples are asked."
     ]
    }
   ],
   "source": [
    "from imblearn.over_sampling import SMOTE\n",
    "from imblearn.under_sampling import RandomUnderSampler\n",
    "\n",
    "RUS = RandomUnderSampler(sampling_strategy={'Xã hội': 20000, 'Sức khỏe - Đời sống': 20000, 'Thế giới': 20000, 'Văn hóa - Giải trí': 20000}, random_state=42)\n",
    "X_RUS, y_RUS = RUS.fit_resample(X, y)\n",
    "Smote = SMOTE(sampling_strategy={'Xe': 10000, 'Công nghệ':10000, 'Giáo dục':10000}, random_state=42)\n",
    "X_smote, y_smote = Smote.fit_resample(X_RUS, y_RUS)\n",
    "y_smote.value_counts()"
   ]
  },
  {
   "cell_type": "code",
   "execution_count": null,
   "id": "a9b89fb6",
   "metadata": {},
   "outputs": [
    {
     "name": "stdout",
     "output_type": "stream",
     "text": [
      "\n",
      "Nhãn sau mã hóa (5 mẫu đầu):\n",
      "[[0. 0. 0. 1. 0. 0. 0. 0. 0. 0.]\n",
      " [0. 0. 0. 0. 1. 0. 0. 0. 0. 0.]\n",
      " [0. 1. 0. 0. 0. 0. 0. 0. 0. 0.]\n",
      " [0. 0. 0. 0. 0. 1. 0. 0. 0. 0.]\n",
      " [0. 0. 0. 0. 0. 0. 0. 0. 0. 1.]]\n",
      "Kích thước nhãn: (161216, 10)\n",
      "Danh sách topic: ['Công nghệ' 'Giáo dục' 'Kinh doanh - Tài chính' 'Pháp luật'\n",
      " 'Sức khỏe - Đời sống' 'Thế giới' 'Thể thao' 'Văn hóa - Giải trí' 'Xe'\n",
      " 'Xã hội']\n"
     ]
    }
   ],
   "source": [
    "le = LabelEncoder()\n",
    "y = le.fit_transform(df[\"topic\"])\n",
    "y = to_categorical(y)\n",
    "print(\"\\nNhãn sau mã hóa (5 mẫu đầu):\")\n",
    "print(y[:5])\n",
    "print(f\"Kích thước nhãn: {y.shape}\")\n",
    "print(f\"Danh sách topic: {le.classes_}\")"
   ]
  },
  {
   "cell_type": "code",
   "execution_count": null,
   "id": "69333e62",
   "metadata": {},
   "outputs": [],
   "source": [
    "from sklearn.model_selection import train_test_split\n",
    "from sklearn.metrics import classification_report, confusion_matrix\n",
    "X_train, X_test, y_train, y_test = train_test_split(X_smote, y_smote, test_size=0.2, random_state=42, stratify=y_smote)"
   ]
  },
  {
   "cell_type": "code",
   "execution_count": null,
   "id": "283e557f",
   "metadata": {},
   "outputs": [],
   "source": [
    "from tensorflow.keras.models import Sequential\n",
    "from tensorflow.keras.layers import Embedding, Conv1D,Flatten, MaxPooling1D, Dense,Dropout"
   ]
  },
  {
   "cell_type": "code",
   "execution_count": null,
   "id": "45e9fd4a",
   "metadata": {},
   "outputs": [
    {
     "data": {
      "text/html": [
       "<pre style=\"white-space:pre;overflow-x:auto;line-height:normal;font-family:Menlo,'DejaVu Sans Mono',consolas,'Courier New',monospace\"><span style=\"font-weight: bold\">Model: \"sequential_2\"</span>\n",
       "</pre>\n"
      ],
      "text/plain": [
       "\u001b[1mModel: \"sequential_2\"\u001b[0m\n"
      ]
     },
     "metadata": {},
     "output_type": "display_data"
    },
    {
     "data": {
      "text/html": [
       "<pre style=\"white-space:pre;overflow-x:auto;line-height:normal;font-family:Menlo,'DejaVu Sans Mono',consolas,'Courier New',monospace\">┏━━━━━━━━━━━━━━━━━━━━━━━━━━━━━━━━━┳━━━━━━━━━━━━━━━━━━━━━━━━┳━━━━━━━━━━━━━━━┓\n",
       "┃<span style=\"font-weight: bold\"> Layer (type)                    </span>┃<span style=\"font-weight: bold\"> Output Shape           </span>┃<span style=\"font-weight: bold\">       Param # </span>┃\n",
       "┡━━━━━━━━━━━━━━━━━━━━━━━━━━━━━━━━━╇━━━━━━━━━━━━━━━━━━━━━━━━╇━━━━━━━━━━━━━━━┩\n",
       "│ embedding_4 (<span style=\"color: #0087ff; text-decoration-color: #0087ff\">Embedding</span>)         │ ?                      │   <span style=\"color: #00af00; text-decoration-color: #00af00\">0</span> (unbuilt) │\n",
       "├─────────────────────────────────┼────────────────────────┼───────────────┤\n",
       "│ conv1d_8 (<span style=\"color: #0087ff; text-decoration-color: #0087ff\">Conv1D</span>)               │ ?                      │   <span style=\"color: #00af00; text-decoration-color: #00af00\">0</span> (unbuilt) │\n",
       "├─────────────────────────────────┼────────────────────────┼───────────────┤\n",
       "│ max_pooling1d_8 (<span style=\"color: #0087ff; text-decoration-color: #0087ff\">MaxPooling1D</span>)  │ ?                      │             <span style=\"color: #00af00; text-decoration-color: #00af00\">0</span> │\n",
       "├─────────────────────────────────┼────────────────────────┼───────────────┤\n",
       "│ conv1d_9 (<span style=\"color: #0087ff; text-decoration-color: #0087ff\">Conv1D</span>)               │ ?                      │   <span style=\"color: #00af00; text-decoration-color: #00af00\">0</span> (unbuilt) │\n",
       "├─────────────────────────────────┼────────────────────────┼───────────────┤\n",
       "│ max_pooling1d_9 (<span style=\"color: #0087ff; text-decoration-color: #0087ff\">MaxPooling1D</span>)  │ ?                      │             <span style=\"color: #00af00; text-decoration-color: #00af00\">0</span> │\n",
       "├─────────────────────────────────┼────────────────────────┼───────────────┤\n",
       "│ flatten_3 (<span style=\"color: #0087ff; text-decoration-color: #0087ff\">Flatten</span>)             │ ?                      │   <span style=\"color: #00af00; text-decoration-color: #00af00\">0</span> (unbuilt) │\n",
       "├─────────────────────────────────┼────────────────────────┼───────────────┤\n",
       "│ dense_5 (<span style=\"color: #0087ff; text-decoration-color: #0087ff\">Dense</span>)                 │ ?                      │   <span style=\"color: #00af00; text-decoration-color: #00af00\">0</span> (unbuilt) │\n",
       "├─────────────────────────────────┼────────────────────────┼───────────────┤\n",
       "│ dropout_3 (<span style=\"color: #0087ff; text-decoration-color: #0087ff\">Dropout</span>)             │ ?                      │             <span style=\"color: #00af00; text-decoration-color: #00af00\">0</span> │\n",
       "├─────────────────────────────────┼────────────────────────┼───────────────┤\n",
       "│ dense_6 (<span style=\"color: #0087ff; text-decoration-color: #0087ff\">Dense</span>)                 │ ?                      │   <span style=\"color: #00af00; text-decoration-color: #00af00\">0</span> (unbuilt) │\n",
       "└─────────────────────────────────┴────────────────────────┴───────────────┘\n",
       "</pre>\n"
      ],
      "text/plain": [
       "┏━━━━━━━━━━━━━━━━━━━━━━━━━━━━━━━━━┳━━━━━━━━━━━━━━━━━━━━━━━━┳━━━━━━━━━━━━━━━┓\n",
       "┃\u001b[1m \u001b[0m\u001b[1mLayer (type)                   \u001b[0m\u001b[1m \u001b[0m┃\u001b[1m \u001b[0m\u001b[1mOutput Shape          \u001b[0m\u001b[1m \u001b[0m┃\u001b[1m \u001b[0m\u001b[1m      Param #\u001b[0m\u001b[1m \u001b[0m┃\n",
       "┡━━━━━━━━━━━━━━━━━━━━━━━━━━━━━━━━━╇━━━━━━━━━━━━━━━━━━━━━━━━╇━━━━━━━━━━━━━━━┩\n",
       "│ embedding_4 (\u001b[38;5;33mEmbedding\u001b[0m)         │ ?                      │   \u001b[38;5;34m0\u001b[0m (unbuilt) │\n",
       "├─────────────────────────────────┼────────────────────────┼───────────────┤\n",
       "│ conv1d_8 (\u001b[38;5;33mConv1D\u001b[0m)               │ ?                      │   \u001b[38;5;34m0\u001b[0m (unbuilt) │\n",
       "├─────────────────────────────────┼────────────────────────┼───────────────┤\n",
       "│ max_pooling1d_8 (\u001b[38;5;33mMaxPooling1D\u001b[0m)  │ ?                      │             \u001b[38;5;34m0\u001b[0m │\n",
       "├─────────────────────────────────┼────────────────────────┼───────────────┤\n",
       "│ conv1d_9 (\u001b[38;5;33mConv1D\u001b[0m)               │ ?                      │   \u001b[38;5;34m0\u001b[0m (unbuilt) │\n",
       "├─────────────────────────────────┼────────────────────────┼───────────────┤\n",
       "│ max_pooling1d_9 (\u001b[38;5;33mMaxPooling1D\u001b[0m)  │ ?                      │             \u001b[38;5;34m0\u001b[0m │\n",
       "├─────────────────────────────────┼────────────────────────┼───────────────┤\n",
       "│ flatten_3 (\u001b[38;5;33mFlatten\u001b[0m)             │ ?                      │   \u001b[38;5;34m0\u001b[0m (unbuilt) │\n",
       "├─────────────────────────────────┼────────────────────────┼───────────────┤\n",
       "│ dense_5 (\u001b[38;5;33mDense\u001b[0m)                 │ ?                      │   \u001b[38;5;34m0\u001b[0m (unbuilt) │\n",
       "├─────────────────────────────────┼────────────────────────┼───────────────┤\n",
       "│ dropout_3 (\u001b[38;5;33mDropout\u001b[0m)             │ ?                      │             \u001b[38;5;34m0\u001b[0m │\n",
       "├─────────────────────────────────┼────────────────────────┼───────────────┤\n",
       "│ dense_6 (\u001b[38;5;33mDense\u001b[0m)                 │ ?                      │   \u001b[38;5;34m0\u001b[0m (unbuilt) │\n",
       "└─────────────────────────────────┴────────────────────────┴───────────────┘\n"
      ]
     },
     "metadata": {},
     "output_type": "display_data"
    },
    {
     "data": {
      "text/html": [
       "<pre style=\"white-space:pre;overflow-x:auto;line-height:normal;font-family:Menlo,'DejaVu Sans Mono',consolas,'Courier New',monospace\"><span style=\"font-weight: bold\"> Total params: </span><span style=\"color: #00af00; text-decoration-color: #00af00\">0</span> (0.00 B)\n",
       "</pre>\n"
      ],
      "text/plain": [
       "\u001b[1m Total params: \u001b[0m\u001b[38;5;34m0\u001b[0m (0.00 B)\n"
      ]
     },
     "metadata": {},
     "output_type": "display_data"
    },
    {
     "data": {
      "text/html": [
       "<pre style=\"white-space:pre;overflow-x:auto;line-height:normal;font-family:Menlo,'DejaVu Sans Mono',consolas,'Courier New',monospace\"><span style=\"font-weight: bold\"> Trainable params: </span><span style=\"color: #00af00; text-decoration-color: #00af00\">0</span> (0.00 B)\n",
       "</pre>\n"
      ],
      "text/plain": [
       "\u001b[1m Trainable params: \u001b[0m\u001b[38;5;34m0\u001b[0m (0.00 B)\n"
      ]
     },
     "metadata": {},
     "output_type": "display_data"
    },
    {
     "data": {
      "text/html": [
       "<pre style=\"white-space:pre;overflow-x:auto;line-height:normal;font-family:Menlo,'DejaVu Sans Mono',consolas,'Courier New',monospace\"><span style=\"font-weight: bold\"> Non-trainable params: </span><span style=\"color: #00af00; text-decoration-color: #00af00\">0</span> (0.00 B)\n",
       "</pre>\n"
      ],
      "text/plain": [
       "\u001b[1m Non-trainable params: \u001b[0m\u001b[38;5;34m0\u001b[0m (0.00 B)\n"
      ]
     },
     "metadata": {},
     "output_type": "display_data"
    },
    {
     "ename": "ValueError",
     "evalue": "Invalid dtype: object",
     "output_type": "error",
     "traceback": [
      "\u001b[31m---------------------------------------------------------------------------\u001b[39m",
      "\u001b[31mValueError\u001b[39m                                Traceback (most recent call last)",
      "\u001b[36mCell\u001b[39m\u001b[36m \u001b[39m\u001b[32mIn[78]\u001b[39m\u001b[32m, line 16\u001b[39m\n\u001b[32m     13\u001b[39m model.summary()\n\u001b[32m     15\u001b[39m \u001b[38;5;66;03m# Huấn luyện\u001b[39;00m\n\u001b[32m---> \u001b[39m\u001b[32m16\u001b[39m history = \u001b[43mmodel\u001b[49m\u001b[43m.\u001b[49m\u001b[43mfit\u001b[49m\u001b[43m(\u001b[49m\u001b[43mX_train\u001b[49m\u001b[43m,\u001b[49m\u001b[43m \u001b[49m\u001b[43my_train\u001b[49m\u001b[43m,\u001b[49m\u001b[43m \u001b[49m\u001b[43mepochs\u001b[49m\u001b[43m=\u001b[49m\u001b[32;43m10\u001b[39;49m\u001b[43m,\u001b[49m\u001b[43m \u001b[49m\u001b[43mbatch_size\u001b[49m\u001b[43m=\u001b[49m\u001b[32;43m64\u001b[39;49m\u001b[43m)\u001b[49m\n\u001b[32m     18\u001b[39m \u001b[38;5;66;03m# Đánh giá\u001b[39;00m\n\u001b[32m     19\u001b[39m test_loss, test_acc = model.evaluate(X_test, y_test)\n",
      "\u001b[36mFile \u001b[39m\u001b[32mf:\\Miniconda\\envs\\dantri_classification\\Lib\\site-packages\\keras\\src\\utils\\traceback_utils.py:122\u001b[39m, in \u001b[36mfilter_traceback.<locals>.error_handler\u001b[39m\u001b[34m(*args, **kwargs)\u001b[39m\n\u001b[32m    119\u001b[39m     filtered_tb = _process_traceback_frames(e.__traceback__)\n\u001b[32m    120\u001b[39m     \u001b[38;5;66;03m# To get the full stack trace, call:\u001b[39;00m\n\u001b[32m    121\u001b[39m     \u001b[38;5;66;03m# `keras.config.disable_traceback_filtering()`\u001b[39;00m\n\u001b[32m--> \u001b[39m\u001b[32m122\u001b[39m     \u001b[38;5;28;01mraise\u001b[39;00m e.with_traceback(filtered_tb) \u001b[38;5;28;01mfrom\u001b[39;00m\u001b[38;5;250m \u001b[39m\u001b[38;5;28;01mNone\u001b[39;00m\n\u001b[32m    123\u001b[39m \u001b[38;5;28;01mfinally\u001b[39;00m:\n\u001b[32m    124\u001b[39m     \u001b[38;5;28;01mdel\u001b[39;00m filtered_tb\n",
      "\u001b[36mFile \u001b[39m\u001b[32mf:\\Miniconda\\envs\\dantri_classification\\Lib\\site-packages\\optree\\ops.py:766\u001b[39m, in \u001b[36mtree_map\u001b[39m\u001b[34m(func, tree, is_leaf, none_is_leaf, namespace, *rests)\u001b[39m\n\u001b[32m    764\u001b[39m leaves, treespec = _C.flatten(tree, is_leaf, none_is_leaf, namespace)\n\u001b[32m    765\u001b[39m flat_args = [leaves] + [treespec.flatten_up_to(r) \u001b[38;5;28;01mfor\u001b[39;00m r \u001b[38;5;129;01min\u001b[39;00m rests]\n\u001b[32m--> \u001b[39m\u001b[32m766\u001b[39m \u001b[38;5;28;01mreturn\u001b[39;00m \u001b[43mtreespec\u001b[49m\u001b[43m.\u001b[49m\u001b[43munflatten\u001b[49m\u001b[43m(\u001b[49m\u001b[38;5;28;43mmap\u001b[39;49m\u001b[43m(\u001b[49m\u001b[43mfunc\u001b[49m\u001b[43m,\u001b[49m\u001b[43m \u001b[49m\u001b[43m*\u001b[49m\u001b[43mflat_args\u001b[49m\u001b[43m)\u001b[49m\u001b[43m)\u001b[49m\n",
      "\u001b[31mValueError\u001b[39m: Invalid dtype: object"
     ]
    }
   ],
   "source": [
    "model = Sequential([\n",
    "    Embedding(30000, 100, input_length=maxlen),\n",
    "    Conv1D(128, 5, activation='relu'),\n",
    "    MaxPooling1D(2),\n",
    "    Conv1D(128, 5, activation='relu'),\n",
    "    MaxPooling1D(2),\n",
    "    Flatten(),\n",
    "    Dense(128, activation='relu'),\n",
    "    Dropout(0.5),\n",
    "    Dense(len(le.classes_), activation='softmax')\n",
    "])\n",
    "model.compile(optimizer='adam', loss='categorical_crossentropy', metrics=['accuracy'])\n",
    "model.summary()\n",
    "\n",
    "# Huấn luyện\n",
    "history = model.fit(X_train, y_train, epochs=10, batch_size=64)\n",
    "\n",
    "# Đánh giá\n",
    "test_loss, test_acc = model.evaluate(X_test, y_test)\n",
    "print(f\"\\nĐộ chính xác trên tập test: {test_acc:.4f}\")"
   ]
  }
 ],
 "metadata": {
  "kernelspec": {
   "display_name": "dantri_classification",
   "language": "python",
   "name": "python3"
  },
  "language_info": {
   "codemirror_mode": {
    "name": "ipython",
    "version": 3
   },
   "file_extension": ".py",
   "mimetype": "text/x-python",
   "name": "python",
   "nbconvert_exporter": "python",
   "pygments_lexer": "ipython3",
   "version": "3.11.13"
  }
 },
 "nbformat": 4,
 "nbformat_minor": 5
}
